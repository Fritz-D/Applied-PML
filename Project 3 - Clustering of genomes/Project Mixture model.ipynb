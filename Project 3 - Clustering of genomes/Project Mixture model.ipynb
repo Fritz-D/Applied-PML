{
 "cells": [
  {
   "cell_type": "markdown",
   "metadata": {},
   "source": [
    "Names of Students and ID: Fritz Darchinger 813336    \n",
    "Group number: Group F    "
   ]
  },
  {
   "cell_type": "markdown",
   "metadata": {},
   "source": [
    "# Clustering of genomic sequences with Mixture Models\n",
    "\n",
    "\n",
    "The goal of the project is to implement a mixture model that can cluster genomic sequences. \n",
    "This jupyter notebook will serve as a guide for the different steps of the implementation of the model and of its estimation. The last part is an application to a dataset from the Ebola epidemics.\n",
    "\n",
    "### For grading, you are just expected to fill in this notebook. However the accompanying project sheet contains complementary information and it is recommended to study it before.\n",
    "\n",
    "## Representative sequences \n",
    "\n",
    "Sequences will be encoded as vectors of integers with values between 0 (A) and 3 (T). \n",
    "\n",
    "We will first code functions to estimate a representative from a set of sequences and to compute the probability of a sequence given a representative and an error rate.\n"
   ]
  },
  {
   "cell_type": "code",
   "execution_count": 112,
   "metadata": {},
   "outputs": [
    {
     "name": "stdout",
     "output_type": "stream",
     "text": [
      "[0 1 3 1 3] [1 1 1 0 3]\n",
      "[[0 1 0 1 0]\n",
      " [0 1 3 1 3]\n",
      " [1 1 3 0 2]]\n"
     ]
    }
   ],
   "source": [
    "import numpy as np \n",
    "\n",
    "##Constants\n",
    "nDNA = 4\n",
    "\n",
    "c1 = np.array([0,1,3,1,3]) #c1 is the sequence ACTAT\n",
    "c2 = np.array([1,1,1,0,3]) #c2 is the sequence CCCAG\n",
    "#(s1,s2,s3) = (ACACA, ACTAT, CCTAG)\n",
    "s = np.array([[0,1,0,1,0], [0,1,3,1,3], [1,1,3,0,2]]) \n",
    "\n",
    "print(c1, c2)\n",
    "\n",
    "print(s)\n"
   ]
  },
  {
   "cell_type": "markdown",
   "metadata": {},
   "source": [
    "## Simulating sequences\n",
    "\n",
    "### Write a functions to simulate a set of sequences from a cluster.\n",
    "\n",
    "This function will take as input a representative `c` the error rate `mu` and `n` the number of sequences\n",
    "to generate and return a numpy array of dimension `(n, len(c))`.\n"
   ]
  },
  {
   "cell_type": "code",
   "execution_count": 113,
   "metadata": {},
   "outputs": [
    {
     "name": "stdout",
     "output_type": "stream",
     "text": [
      "theoretical mutation rate: 0.1, simulated mutation rate 0.1002444\n"
     ]
    }
   ],
   "source": [
    "def simulate_seqs(n: int, c: np.ndarray[int], mu: float) -> np.ndarray[int, int]:\n",
    "    \"\"\"\n",
    "    int * ndarray[int] * float -> ndarray[int,int]\n",
    "    \"\"\"\n",
    "    seqs = np.tile(c, (n,1))\n",
    "    #your code here\n",
    "    modifier = np.random.choice([0,1,2,3], size=seqs.shape, p=(1-mu,mu/3,mu/3,mu/3))\n",
    "    return (seqs + modifier) % 4\n",
    "\n",
    "##Simulate 100 sequences with mu=0.1 and verify that the average percentage\n",
    "##of mutation is indeed 10% (in other words we expect on average a mutation every ten positions)\n",
    "\n",
    "n1 = 1000000\n",
    "mu1 = 0.1\n",
    "ssim = simulate_seqs(n1, c1, mu1)\n",
    "\n",
    "#your code here\n",
    "mu1_sim = np.count_nonzero(ssim - c1) / len(c1) / n1\n",
    "print(f\"theoretical mutation rate: {mu1}, simulated mutation rate {mu1_sim}\")"
   ]
  },
  {
   "cell_type": "markdown",
   "metadata": {},
   "source": [
    "## Computing sequence probabilities\n",
    "\n",
    "### 1. Write a function that computes the log probability for a set of sequences\n",
    "\n",
    "It will take as input a matrix of sequences, the representative, and the  error rate `mu`\n"
   ]
  },
  {
   "cell_type": "code",
   "execution_count": 114,
   "metadata": {},
   "outputs": [
    {
     "name": "stdout",
     "output_type": "stream",
     "text": [
      "[ -7.29604783  -0.4715534  -10.70829505]\n",
      "expected result: [ -7.29604783  -0.4715534  -10.70829505]\n",
      "[-14.12054227 -10.70829505  -7.29604783]\n"
     ]
    }
   ],
   "source": [
    "def LogProbabilities(s: np.ndarray[int, int], c: np.ndarray[int], mu: float) -> np.ndarray[float]:\n",
    "    \"\"\"\n",
    "    ndarray[int,int] * ndarray[int] * float -> ndarray[float]\n",
    "    \"\"\"\n",
    "    ## Your code here\n",
    "    mutations = np.count_nonzero(s - c, axis=1)\n",
    "    return np.log(mu / 3) * mutations + np.log(1-mu) * (s.shape[1]-mutations)\n",
    "    \n",
    "\n",
    "print(LogProbabilities(s, c1, 0.09))\n",
    "print(\"expected result:\", np.log([0.91**3*0.03**2, 0.91**5, 0.91**2 * 0.03**3]))\n",
    "print(LogProbabilities(s, c2, 0.09))"
   ]
  },
  {
   "cell_type": "markdown",
   "metadata": {},
   "source": [
    "### 2. Compute the class posteriors \n",
    "\n",
    "This function takes as argument a set of representatives, a set of error rate and the class priors and returns a \n",
    "matrix of all the class posterior. You can use the function `LogProbabilities` to simplify the computation.\n"
   ]
  },
  {
   "cell_type": "code",
   "execution_count": 115,
   "metadata": {},
   "outputs": [
    {
     "name": "stdout",
     "output_type": "stream",
     "text": [
      "[[9.98914355e-01 1.08564536e-03]\n",
      " [9.99964172e-01 3.58281206e-05]\n",
      " [3.19148936e-02 9.68085106e-01]]\n"
     ]
    }
   ],
   "source": [
    "def ClassPosterior(s: np.ndarray[int, int], list_c: np.ndarray[int,int], list_mu: np.ndarray[float], \n",
    "                   priors: np.ndarray[float]) -> np.ndarray[float, float]:\n",
    "    \"\"\"\n",
    "    ndarray[int, int] * ndarray[int] * ndarray[float] * ndarray[float] -> ndarray[float, float]\n",
    "    \"\"\"\n",
    "    ### Your code here\n",
    "    logprobs = np.tile(0.0, (s.shape[0], len(list_c)))\n",
    "    for i in range(0, len(list_c)):\n",
    "        logprobs[:,i] = LogProbabilities(s, list_c[i], list_mu[i])\n",
    "    probs = np.exp(logprobs) * priors\n",
    "    return probs / np.vstack(probs.sum(1))\n",
    "\n",
    "\n",
    "mus = np.array([0.09, 0.09])\n",
    "pi = np.array([0.5, 0.5])\n",
    "posteriors = ClassPosterior(s, np.array([c1, c2]), mus, pi)\n",
    "\n",
    "print(posteriors)\n",
    "##Expected output\n",
    "#[[9.98914355e-01 1.08564536e-03]\n",
    "# [9.99964172e-01 3.58281206e-05]\n",
    "# [3.19148936e-02 9.68085106e-01]]"
   ]
  },
  {
   "cell_type": "markdown",
   "metadata": {},
   "source": [
    "### 3. Compute the loglikelihood of the sequences\n",
    "\n",
    "Compute the conditional loglikelihood of the sequences by integrating over all possible class membership (note that you will have to compute an exponential of the logprobabilities computed with the previous function.\n",
    "$$\n",
    "\\log P(s_1,\\ldots, s_n \\mid (c_1, \\ldots, c_K), (\\mu_1, \\ldots, \\mu_K), (\\pi_1,\\ldots, \\pi_K)) = \n",
    "\\sum_{i=1}^n \\log \\Big(\\sum_{i=1}^K \\pi_k P(s_i \\mid z_i = k)\\Big)\n",
    "$$\n",
    "(note: $z_i$ is the class of the sequence $s_i$)"
   ]
  },
  {
   "cell_type": "code",
   "execution_count": 116,
   "metadata": {},
   "outputs": [
    {
     "name": "stdout",
     "output_type": "stream",
     "text": [
      "-17.109533265532214\n"
     ]
    }
   ],
   "source": [
    "def conditional_loglikelihood(s: np.ndarray[int, int], list_c: np.ndarray[int, int], \n",
    "                              list_mu: np.ndarray[float], priors: np.ndarray[float]) -> float:\n",
    "    \"\"\"\n",
    "    ndarray[int, int] * ndarray[int] * ndarray[float] * ndarray[float] -> float\n",
    "    \"\"\"\n",
    "    ##Your code here\n",
    "    logprobs = np.tile(0.0, (s.shape[0], len(list_c)))\n",
    "    for i in range(0, len(list_c)):\n",
    "        logprobs[:,i] = LogProbabilities(s, list_c[i], list_mu[i])\n",
    "    return np.sum(np.log(np.sum(priors * np.exp(logprobs), 1)))\n",
    "\n",
    "print(conditional_loglikelihood(s, np.array([c1, c2]), mus, pi))"
   ]
  },
  {
   "cell_type": "markdown",
   "metadata": {},
   "source": [
    "## Estimating class representatives and implementing EM _light_\n",
    "\n",
    "In the following we will implement a simplified version of EM with binary class allocations (each sequence is in the class where it has the highest posterior probability).\n",
    "\n",
    "We will first write a function to update class representative and error rate from a set of sequences and then\n",
    "implement EM\n"
   ]
  },
  {
   "cell_type": "markdown",
   "metadata": {},
   "source": [
    "### 1. Write two functions, one to estimate the sequence representative and one to estimate the error rate\n",
    "\n",
    "From set of sequences, we compute first the profile of the sequences at each position and as consensus the most\n",
    "represented nucleotide. We then estimate the error rate by counting the number of differences to the consensus.\n",
    "\n"
   ]
  },
  {
   "cell_type": "code",
   "execution_count": 117,
   "metadata": {},
   "outputs": [
    {
     "name": "stdout",
     "output_type": "stream",
     "text": [
      "[0 1 3 1 0]\n",
      "0.3333333333333333\n"
     ]
    }
   ],
   "source": [
    "from typing import Optional\n",
    "def estimate_representative(s: np.ndarray[int, int]) -> Optional[np.ndarray[int]]:\n",
    "    \"\"\"\n",
    "    ndarray[int, int] -> ndarray[int]    \n",
    "    from a n * L matrix of sequences, returns the consensus sequence \n",
    "    \"\"\"\n",
    "    return np.apply_along_axis(lambda x: np.argmax(np.bincount(x)), 0, s) if s.shape[0] != 0 else None\n",
    "    \n",
    "def estimate_error_rate(s: np.ndarray[int, int], c: np.ndarray[int, int]) -> float:\n",
    "    \"\"\"\n",
    "    ndarray[int, int] -> float\n",
    "    \"\"\"\n",
    "    return (np.count_nonzero(s - c) or 1) / s.shape[1] / s.shape[0]\n",
    "\n",
    "c = estimate_representative(s)\n",
    "mu = estimate_error_rate(s, c)\n",
    "print(c) # [0 1 3 1 0]\n",
    "print(mu) # 0.3333333333333333\n",
    "    "
   ]
  },
  {
   "cell_type": "markdown",
   "metadata": {},
   "source": [
    "### 2. Implementing EM\n",
    "\n",
    "We will implement the EM algorithm with fixed class allocation:    \n",
    "\n",
    "0. fix the number of clusters $K$\n",
    "1. Initialise random allocation of the representative. The most common way is to sample the $K$ representative from the set of points **(do not initialize with random sequences!)**. \n",
    "2. Until convergence\n",
    "    - Compute the class posteriors for each sequence\n",
    "    - Allocate each sequence to the most probable class\n",
    "    - Update cluster representative and error rate\n",
    "\n",
    "Note that this algorithm works in the spirit of the K-means algorithm in the sense that the class allocations are fixed at each step. However, an adapation of K-means to multinoulli would only estimate class centers. Here we estimate class centers $c_k$ and the error rate $\\mu_k$ for each class.\n",
    "\n",
    "If the algorithm does not converge well, you can inspire yourself from the kmean++ algorithm for initialisation. \n",
    "\n",
    "For the convergence criterion we can monitor the class representatives and stop when they do not change anymore.\n",
    "\n",
    "The function will return a matrix (K x L) of the class representatives, a vector of the class proportions and optionally a vector of the likelihoods at each iteration.\n",
    "\n"
   ]
  },
  {
   "cell_type": "code",
   "execution_count": 147,
   "metadata": {},
   "outputs": [],
   "source": [
    "def EM(s: np.ndarray[int, int], K: int, threshold: float = 1e-4, max_iter: int = 1000\n",
    "       ) -> tuple[np.ndarray[int,int], np.ndarray[float], np.ndarray[float]]:\n",
    "    \"\"\"\n",
    "    ndarray[int,int] * int -> (ndarray[int, int], ndarray[float], ndarray[float])\n",
    "    \"\"\"\n",
    "    # c = s[np.random.choice(s.shape[0], K, replace=False)]\n",
    "    c = np.tile(0, (K, s.shape[1]))\n",
    "    c[0] = s[np.random.choice(s.shape[0], 1)]\n",
    "    distances = np.tile(0.0, (K, s.shape[0]))\n",
    "    distances[0] = np.linalg.norm(s-c[0], axis=1)\n",
    "    for i in range(1, K):\n",
    "        weights = distances[:i].min(0)\n",
    "        c[i] = s[np.random.choice(s.shape[0], 1, p=weights/weights.sum())]\n",
    "        distances[i] = np.linalg.norm(s-c[i], axis=1)\n",
    "\n",
    "    mu = np.tile(0.1, K)\n",
    "    pi = np.tile(1 / K, K)\n",
    "    condlikes = [conditional_loglikelihood(s, c, mu, pi)]\n",
    "\n",
    "    for _ in range(0, max_iter):\n",
    "        posteriors = ClassPosterior(s, c, mu, pi)\n",
    "\n",
    "        seqs_per_class = {k: list() for k in range(0, K)}\n",
    "        for i,v in enumerate(np.argmax(posteriors, axis=1)): # group sequences by class\n",
    "            seqs_per_class[v] += [i]\n",
    "\n",
    "        c_u, mu_u, pi_u = np.empty_like(c), np.empty_like(mu), np.empty_like(pi)\n",
    "        for k in range(0, K):\n",
    "            if len(seqs_per_class[k]):\n",
    "                s_k = s[seqs_per_class[k]]\n",
    "                c_u[k] = estimate_representative(s_k)\n",
    "                mu_u[k] = estimate_error_rate(s_k, c[k])\n",
    "                pi_u[k] = len(s_k) / len(s)\n",
    "            else: # empty class ! -> some arbitrary values, pi = 0\n",
    "                c_u[k] = np.zeros_like(c[k])\n",
    "                mu_u[k] = np.tile(0.5, mu[k].shape)\n",
    "                pi_u[k] = 0\n",
    "\n",
    "        condlike_u = conditional_loglikelihood(s, c_u, mu_u, pi_u)\n",
    "        c, mu, pi = c_u, mu_u, pi_u\n",
    "        if abs(condlike_u - condlikes[-1]) < threshold:\n",
    "            break\n",
    "        \n",
    "        condlikes.append(condlike_u)\n",
    "    return c, mu, pi, np.array(condlikes)\n"
   ]
  },
  {
   "cell_type": "markdown",
   "metadata": {},
   "source": [
    "### 3. Validating on simulated data\n",
    "\n",
    "\n",
    "The file `simul_3_clusters.csv` contains a simulation of 400 sequences of length 100 sampled from 3 clusters with proportions $\\pi = (0.6, 0.3, 0.1) $. \n",
    "- Apply EM on the simulated sequences \n",
    "- Verify that the estimation of the clusters worked correctly by checking the estimated class representative and the prior (file `simul_representatives.csv`)\n",
    "- Verify the class allocations as well (file `simul_sequences_class.csv`)\n",
    "- What are the error rates $(\\mu_1, \\mu_2, \\mu_3)$ for each of the classes?\n",
    "\n",
    "**Note: be careful while loading the file `simul_representatives.csv`, it has no header**\n",
    "\n",
    "### 4. Determining the number of clusters\n",
    "\n",
    "Run EM for $K$ ranging from 2 to 10 and record the loglikelihood for each adjusted model adjusted.\n",
    "Plot the value of the loglikelihood against $K$, what do you observe?\n"
   ]
  },
  {
   "cell_type": "code",
   "execution_count": 119,
   "metadata": {},
   "outputs": [],
   "source": [
    "s_simul = np.loadtxt(\"simul_3_clusters.csv\", delimiter=\",\", dtype=\"int\")\n",
    "c_simul = np.loadtxt(\"simul_representatives.csv\", delimiter=\",\", dtype=\"int\")\n",
    "seq_simul = np.loadtxt(\"simul_sequences_class.csv\", delimiter=\",\", dtype=\"int\")"
   ]
  },
  {
   "cell_type": "code",
   "execution_count": 124,
   "metadata": {},
   "outputs": [
    {
     "name": "stdout",
     "output_type": "stream",
     "text": [
      "--------------------------------------------------|\n",
      "[0.0675 0.6175 0.315 ] [0.01777778 0.10121457 0.05174603] -14754.90281681751\n"
     ]
    }
   ],
   "source": [
    "c, mu, pi, loglikes = EM(s_simul, 3)\n",
    "for i in range(0, 50): # noise insulation\n",
    "    print(\"-\", end=\"\")\n",
    "    c_i, mu_i, pi_i, loglikes_i = EM(s_simul, 3)\n",
    "    if loglikes_i[-1] > loglikes[-1]:\n",
    "        c, mu, pi, loglikes = c_i, mu_i, pi_i, loglikes_i\n",
    "print(\"|\")\n",
    "print(pi, mu, loglikes[-1])"
   ]
  },
  {
   "cell_type": "code",
   "execution_count": 133,
   "metadata": {},
   "outputs": [
    {
     "name": "stdout",
     "output_type": "stream",
     "text": [
      "Representatives off by [0. 0. 0.]\n",
      "Priors off by [0. 0. 0.]\n",
      "Mismatched class allocations: 0/400\n",
      "Error rates: [0.01777778 0.10121457 0.05174603]\n"
     ]
    }
   ],
   "source": [
    "print(f\"Representatives off by {np.apply_along_axis(lambda ci: np.linalg.norm(c_simul - ci, axis=1).min(), 1, c)}\")\n",
    "print(f\"Priors off by {np.unique(seq_simul, return_counts=True)[1] / len(seq_simul) + sorted(-pi)}\")\n",
    "allocations = np.argmax(ClassPosterior(s_simul, c, mu, pi), axis=1)\n",
    "misallocations = (np.unique(allocations, return_counts=True)[1] - np.unique(allocations, return_counts=True)[1]).sum()\n",
    "print(f\"Mismatched class allocations: {misallocations}/{len(allocations)}\")\n",
    "print(f\"Error rates: {mu}\")"
   ]
  },
  {
   "cell_type": "code",
   "execution_count": 122,
   "metadata": {},
   "outputs": [
    {
     "name": "stdout",
     "output_type": "stream",
     "text": [
      "k = 2: [-15677.6494525  -15677.6494525  -15677.6494525  -15677.6494525\n",
      " -15677.6494525  -19483.99456642 -19483.99456642 -19483.99456642\n",
      " -15677.6494525  -15677.6494525  -19483.99456642 -15677.6494525\n",
      " -15677.6494525  -15677.6494525  -15677.6494525  -15677.6494525\n",
      " -15677.6494525  -19435.85241075 -15677.6494525  -15677.6494525\n",
      " -19454.61375716 -15677.6494525  -19438.9799117  -15677.6494525\n",
      " -15677.6494525 ]\n",
      "k = 3: [-15631.9600502  -19483.99456642 -15677.6494525  -15656.77253356\n",
      " -15628.69085978 -15677.6494525  -15654.83320258 -19438.9799117\n",
      " -15677.6494525  -15677.6494525  -15622.15127973 -15677.6494525\n",
      " -19433.89036243 -15677.6494525  -15677.6494525  -15649.47305419\n",
      " -15677.6494525  -15677.6494525  -15625.42126966 -15609.06731926\n",
      " -15649.47305419 -14754.90281682 -19470.29365962 -19483.99456642\n",
      " -15677.6494525 ]\n",
      "k = 4: [-15628.69085978 -15622.52584426 -15624.61623849 -15579.72293266\n",
      " -15677.6494525  -15622.15127973 -15609.06731926 -15677.6494525\n",
      " -15560.09029928 -19352.06961511 -15631.9600502  -15625.42126966\n",
      " -15677.6494525  -15609.06731926 -15664.26016773 -15606.91538149\n",
      " -14754.90281682 -15677.6494525  -15609.06731926 -14754.90281682\n",
      " -15643.12910809 -15669.13287659 -15579.72293266 -14754.90281682\n",
      " -15659.14354506]\n",
      "k = 5: [-14749.83149363 -15618.88088985 -14754.90281682 -15625.42126966\n",
      " -15645.03281756 -15677.6494525  -15631.9600502  -15645.03281756\n",
      " -15618.88088985 -14704.21741983 -15620.20084864 -15612.28403712\n",
      " -15579.72293266 -15677.6494525  -15607.02391818 -15677.6494525\n",
      " -15560.18105839 -15616.72295065 -14673.08412627 -15618.88088985\n",
      " -15603.992622   -15659.30195147 -15628.69085978 -15596.07241384\n",
      " -15586.26392919]\n",
      "k = 6: [-15626.49508042 -14687.53617282 -15592.80332014 -14699.21776828\n",
      " -15589.53382529 -15624.61623847 -15534.01780826 -14710.93087809\n",
      " -14754.90281682 -15588.43025982 -15587.02220683 -14754.90281682\n",
      " -14657.65280645 -15578.06882885 -14683.99217381 -15563.36341016\n",
      " -14677.64707512 -15646.67460331 -15668.78383849 -14607.522582\n",
      " -14720.35292851 -14751.51651803 -15555.13741679 -14732.38498511\n",
      " -15577.90322029]\n",
      "k = 7: [-14710.23270972 -14656.6602514  -15515.84600492 -14706.84860731\n",
      " -14545.21239191 -14663.23115    -14679.56201408 -14624.84722554\n",
      " -15517.7477695  -15557.87284693 -14682.93306045 -14646.80052864\n",
      " -14709.07088429 -15578.87271479 -14746.0482568  -14666.51592481\n",
      " -15634.57836768 -15496.70144435 -15572.37025218 -14630.20306685\n",
      " -14674.52099598 -15634.84199866 -14571.52800928 -14660.89835602\n",
      " -14701.83551833]\n",
      "k = 8: [-15494.69259546 -15469.95110877 -14599.25427812 -15570.14011235\n",
      " -15445.27627962 -15525.57703325 -15655.19359957 -14658.80619916\n",
      " -14673.14688966 -14574.38089662 -15569.14096251 -14742.98749286\n",
      " -14606.13552565 -15595.30487429 -14706.97338611 -14615.5794698\n",
      " -15571.40443953 -14716.33896708 -15496.22564222 -14676.36755324\n",
      " -14651.40001831 -14747.3783699  -15550.13052289 -14709.07088429\n",
      " -15662.22929036]\n",
      "k = 9: [-14533.47481081 -14609.42633767 -14573.82055679 -14638.51538032\n",
      " -15505.94511158 -14671.31726529 -14575.53316138 -14627.82622811\n",
      " -15559.55234969 -15496.02008977 -14587.4822142  -14662.64153606\n",
      " -15462.57953466 -15542.71898393 -14610.81002266 -14680.93519596\n",
      " -14750.78683811 -14528.95320725 -15472.8986371  -14559.57321881\n",
      " -15614.69913539 -14592.82323718 -14661.68834315 -14684.63225994\n",
      " -14658.38015828]\n",
      "k = 10: [-15521.94075812 -15408.89369017 -14607.11812311 -15378.58229724\n",
      " -14722.20211066 -14560.74391204 -15522.84835256 -15551.62765009\n",
      " -14605.45317818 -14648.00551077 -14568.24014875 -15507.12096406\n",
      " -14553.06035143 -14689.73491593 -14635.25036188 -14616.29249633\n",
      " -14600.31162414 -15519.48472028 -14603.66079509 -15555.97396932\n",
      " -14563.26466572 -14512.00135186 -14607.71885578 -14600.34419587\n",
      " -15542.37558937]\n"
     ]
    },
    {
     "data": {
      "image/png": "[encoded data removed]",
      "text/plain": [
       "<Figure size 640x480 with 1 Axes>"
      ]
     },
     "metadata": {},
     "output_type": "display_data"
    }
   ],
   "source": [
    "import matplotlib.pyplot as plt\n",
    "## Write the code here to check the number of clusters.\n",
    "loglikelihoods = np.tile(0.0, (9,25))\n",
    "for k in range(2, 11):\n",
    "    print(f\"k = {k}: \", end=\"\")\n",
    "    for i in range(0, 25):\n",
    "        c_k, mu_k, pi_k, loglikes_k = EM(s_simul, k)\n",
    "        loglikelihoods[k-2][i] = loglikes_k[-1]\n",
    "    print(loglikelihoods[k-2])\n",
    "\n",
    "plt.plot(range(2, 11), loglikelihoods.mean(1))\n",
    "plt.show()\n",
    "# increasing the number of clusters seems to asymptotically increase the \n",
    "# average fit as the initialization becomes better\n",
    "# after all, extraneous representatives just get eliminated"
   ]
  },
  {
   "cell_type": "markdown",
   "metadata": {},
   "source": [
    "## Application to real data: Ebola"
   ]
  },
  {
   "cell_type": "markdown",
   "metadata": {},
   "source": [
    "We gonna apply our clustering method to real sequences from the Ebola epidemics in west Africa in 2014-2016. \n",
    "We will first start with a simple \"detective work\" on a set of simple sequences to understand the questions related to outbreak analysis.  \n",
    "\n",
    "**!!! This part is more difficult to complete, do not hesitate to reach out for guidance on the data analysis and on the initialisation of the EM parameters!!!**\n",
    "\n",
    "\n",
    "### 1. Detective training\n",
    "\n",
    "This part is condensed from an activity proposed on the excellent [HHMI biointeractive website](https://www.biointeractive.org/classroom-resources/ebola-disease-detectives). It is recommended start by reading this [short summary on the Ebola epidemics](https://www.biointeractive.org/sites/default/files/Introduction-to-Ebola.pdf). \n",
    "\n",
    "Below is a set of DNA sequences that includes the reference sample from Guinea and 15 Ebola DNA sequences from samples of patients in Sierra Leone. We will reason on those sequences to understand better how genomic information can help understanding the spread of a virus. \n",
    "\n",
    "\n",
    "- The shaded nucleotides in sequences 1–15 represent mutations that occurred in these different viruses compared to the reference sequence. (Remember that the reference sequence is from a virus that was present at the start of the outbreak.) \n",
    "- Move the Ebola sequences 1–15 around to identify patterns in the mutations.\n",
    "- Group sequences according to any patterns you see.\n",
    "- Every sequence should be in a group, even if they are not identical. Use your groupings to answer the analysis questions.\n",
    "\n",
    "<div>\n",
    "<img src=\"ebola_sequences.png\" width=\"400\"/>\n",
    "</div>\n",
    "\n",
    "\n",
    "\n",
    "#### 1.a Write your groups below\n",
    "\n"
   ]
  },
  {
   "cell_type": "markdown",
   "metadata": {},
   "source": [
    "Group 1: Sequences 2, 5, 7, 8, 10, 12, 15.    \n",
    "Group 2: Sequences 1, 3, 4, 6, 9, 11, 13, 14.    "
   ]
  },
  {
   "cell_type": "markdown",
   "metadata": {},
   "source": [
    "#### 1.b What was your criteria to construct this grouping? Could you have used an alternative criteria?"
   ]
  },
  {
   "cell_type": "markdown",
   "metadata": {},
   "source": [
    "My criterion was to group viral dna by strain - a successful strain is indicated by a large number of sequences with almost identical mutations. All sequences possess an identical mutation in the 2nd and 6th nucleotides, but members of group 2 also possess an identical mutation in the 1st, 7th, 12th and 13th nucleotide. No other pattern is directly apparent, the rest of the mutations seem to be noise.    \n",
    "\n",
    "Sequences 8 and 12 are identical, sequences 10 and 1 have particulary significant additional mutations, so they could all be given individual groups."
   ]
  },
  {
   "cell_type": "markdown",
   "metadata": {},
   "source": [
    "#### 1.c If a sequence has a larger number of mutations when compared to the reference sequence, does that mean it is from earlier or later in the outbreak? Explain your answer. "
   ]
  },
  {
   "cell_type": "markdown",
   "metadata": {},
   "source": [
    "On average, it means it is from later in the outbreak, as mutations happen randomly over time and therefore the amount of mutations tends to trend up."
   ]
  },
  {
   "cell_type": "markdown",
   "metadata": {},
   "source": [
    "#### 1.d Create a visual that highlights the relationship between your groups. Examples of effective visuals include flowcharts and trees. Be sure that your visual includes an arrow indicating passage of time during the outbreak. \n"
   ]
  },
  {
   "cell_type": "markdown",
   "metadata": {},
   "source": [
    "<div>\n",
    "<img src=\"ebola_sequences_done.png\"/>\n",
    "</div>"
   ]
  },
  {
   "cell_type": "markdown",
   "metadata": {},
   "source": [
    "### 2. Testing the clustering algorithm\n",
    "\n",
    "Let's apply our clustering algorithm to a set of sequences from the 2014-2016 epidemics. We started from the genome data available on [this website](https://github.com/ebov/space-time) listing 1610 sequences during the pandemics. We selected a subset of sequences and recorded only positions that are changing. We also prepared the data as a numpy array. \n",
    "\n",
    "#### 2.a Run the mixture model for different values of $k$ \n",
    "\n",
    "#### 2.b Determine the most suited value for $k$. What about the resulting groups, are they very diverse?"
   ]
  },
  {
   "cell_type": "code",
   "execution_count": null,
   "metadata": {},
   "outputs": [
    {
     "name": "stdout",
     "output_type": "stream",
     "text": [
      "k = 25: [-7185.28295455 -8473.69357162]\n",
      "k = 35: [-7593.70422339 -7236.99004087]\n",
      "k = 45: [-6204.84559685 -5543.90489598]\n",
      "k = 55: [-4528.9551253  -5375.20575524]\n",
      "k = 65: [-3720.8312937  -3659.36852165]\n",
      "k = 75: [-2945.63799665 -3273.10198786]\n",
      "k = 85: [-2594.68186819 -3097.57967683]\n",
      "k = 95: [-2531.75606738 -2716.80677978]\n",
      "k = 105: [-2410.87718616 -2263.96964257]\n",
      "k = 115: [-2175.73464514 -2340.72653406]\n",
      "k = 125: [-2178.97422714 -2153.84471568]\n",
      "k = 135: [-2082.73414739 -2080.5280798 ]\n",
      "k = 145: [-2037.86827441 -2037.86827441]\n"
     ]
    },
    {
     "data": {
      "image/png": "[encoded data removed]",
      "text/plain": [
       "<Figure size 640x480 with 1 Axes>"
      ]
     },
     "metadata": {},
     "output_type": "display_data"
    }
   ],
   "source": [
    "# Loading data\n",
    "import pickle as pkl\n",
    "sequences = pkl.load(open('Ebola_data/ebola.pkl', 'rb'))\n",
    "\n",
    "# Running EM with different values for k\n",
    "kstep = 10\n",
    "kmin, kmax = 25, 145\n",
    "assert (kmax-kmin) % kstep == 0\n",
    "instances = 2\n",
    "\n",
    "best_k = 0\n",
    "best_loglikelihood = float(\"-inf\")\n",
    "\n",
    "loglikelihoods = np.tile(0.0, (int((kmax-kmin)/kstep)+1, instances))\n",
    "for k in range(kmin, kmax+1, kstep):\n",
    "    print(f\"k = {k}: \", end=\"\")\n",
    "    for i in range(0, instances):\n",
    "        c_k, mu_k, pi_k, loglikes_k = EM(sequences, k)\n",
    "        loglikelihoods[int((k-kmin)/kstep)][i] = loglikes_k[-1]\n",
    "    print(loglikelihoods[int((k-kmin)/kstep)])\n",
    "    if loglikelihoods[int((k-kmin)/kstep)].mean() > best_loglikelihood:\n",
    "        best_loglikelihood = loglikelihoods[int((k-kmin)/kstep)].mean()\n",
    "        best_k = k\n",
    "\n",
    "plt.plot(range(kmin, kmax+1, kstep), loglikelihoods.mean(1))\n",
    "plt.show()\n",
    "\n",
    "# Determine the most suited value for k\n",
    "print(f\"Best k: {best_k} with loglikelihood of {best_loglikelihood}\")\n",
    "# this always seems to be the highest number \n",
    "# k=145 is max because there are exactly 145 unique sequences...\n",
    "# am I missing some sort of term punishing k?\n",
    "# anyways, the groups are not particularly diverse\n",
    "# because each group is just copies of the representation"
   ]
  },
  {
   "cell_type": "markdown",
   "metadata": {},
   "source": [
    "#### 2.c Do you see limitations in applying the clustering algorithm to an outbreak? What are the advantages? What would be an alternative method?"
   ]
  },
  {
   "cell_type": "markdown",
   "metadata": {},
   "source": [
    "It seems that the number of clusters has to be known a-priori somehow? I'm not sure.\n",
    "Since mutations happen over time some sort of markov model may be better able to model sequences..."
   ]
  }
 ],
 "metadata": {
  "kernelspec": {
   "display_name": "f2c",
   "language": "python",
   "name": "python3"
  },
  "language_info": {
   "codemirror_mode": {
    "name": "ipython",
    "version": 3
   },
   "file_extension": ".py",
   "mimetype": "text/x-python",
   "name": "python",
   "nbconvert_exporter": "python",
   "pygments_lexer": "ipython3",
   "version": "3.10.14"
  }
 },
 "nbformat": 4,
 "nbformat_minor": 2
}
