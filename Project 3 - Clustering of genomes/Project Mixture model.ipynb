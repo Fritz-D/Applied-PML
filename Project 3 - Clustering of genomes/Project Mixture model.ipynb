{
 "cells": [
  {
   "cell_type": "markdown",
   "metadata": {},
   "source": [
    "Names of Students and ID: Fritz Darchinger 813336    \n",
    "Group number: Group F    "
   ]
  },
  {
   "cell_type": "markdown",
   "metadata": {},
   "source": [
    "# Clustering of genomic sequences with Mixture Models\n",
    "\n",
    "\n",
    "The goal of the project is to implement a mixture model that can cluster genomic sequences. \n",
    "This jupyter notebook will serve as a guide for the different steps of the implementation of the model and of its estimation. The last part is an application to a dataset from the Ebola epidemics.\n",
    "\n",
    "### For grading, you are just expected to fill in this notebook. However the accompanying project sheet contains complementary information and it is recommended to study it before.\n",
    "\n",
    "## Representative sequences \n",
    "\n",
    "Sequences will be encoded as vectors of integers with values between 0 (A) and 3 (T). \n",
    "\n",
    "We will first code functions to estimate a representative from a set of sequences and to compute the probability of a sequence given a representative and an error rate.\n"
   ]
  },
  {
   "cell_type": "code",
   "execution_count": null,
   "metadata": {},
   "outputs": [
    {
     "name": "stdout",
     "output_type": "stream",
     "text": [
      "[0 1 3 1 3] [1 1 1 0 3]\n",
      "[[0 1 0 1 0]\n",
      " [0 1 3 1 3]\n",
      " [1 1 3 0 2]]\n"
     ]
    }
   ],
   "source": [
    "import numpy as np \n",
    "\n",
    "##Constants\n",
    "nDNA = 4\n",
    "\n",
    "c1 = np.array([0,1,3,1,3]) #c1 is the sequence ACTAT\n",
    "c2 = np.array([1,1,1,0,3]) #c2 is the sequence CCCAG\n",
    "#(s1,s2,s3) = (ACACA, ACTAT, CCTAG)\n",
    "s = np.array([[0,1,0,1,0], [0,1,3,1,3], [1,1,3,0,2]]) \n",
    "\n",
    "print(c1, c2)\n",
    "\n",
    "print(s)\n"
   ]
  },
  {
   "cell_type": "markdown",
   "metadata": {},
   "source": [
    "## Simulating sequences\n",
    "\n",
    "### Write a functions to simulate a set of sequences from a cluster.\n",
    "\n",
    "This function will take as input a representative `c` the error rate `mu` and `n` the number of sequences\n",
    "to generate and return a numpy array of dimension `(n, len(c))`.\n"
   ]
  },
  {
   "cell_type": "code",
   "execution_count": 77,
   "metadata": {},
   "outputs": [
    {
     "name": "stdout",
     "output_type": "stream",
     "text": [
      "theoretical mutation rate: 0.1, simulated mutation rate 0.099614\n"
     ]
    }
   ],
   "source": [
    "def simulate_seqs(n: int, c: np.ndarray[int], mu: float) -> np.ndarray[int, int]:\n",
    "    \"\"\"\n",
    "    int * ndarray[int] * float -> ndarray[int,int]\n",
    "    \"\"\"\n",
    "    seqs = np.tile(c, (n,1))\n",
    "    #your code here\n",
    "    modifier = np.random.choice([0,1,2,3], size=seqs.shape, p=(1-mu,mu/3,mu/3,mu/3))\n",
    "    return (seqs + modifier) % 4\n",
    "\n",
    "##Simulate 100 sequences with mu=0.1 and verify that the average percentage\n",
    "##of mutation is indeed 10% (in other words we expect on average a mutation every ten positions)\n",
    "\n",
    "n1 = 1000000\n",
    "mu1 = 0.1\n",
    "ssim = simulate_seqs(n1, c1, mu1)\n",
    "\n",
    "#your code here\n",
    "mu1_sim = np.count_nonzero(ssim - c1) / len(c1) / n1\n",
    "print(f\"theoretical mutation rate: {mu1}, simulated mutation rate {mu1_sim}\")"
   ]
  },
  {
   "cell_type": "markdown",
   "metadata": {},
   "source": [
    "## Computing sequence probabilities\n",
    "\n",
    "### 1. Write a function that computes the log probability for a set of sequences\n",
    "\n",
    "It will take as input a matrix of sequences, the representative, and the  error rate `mu`\n"
   ]
  },
  {
   "cell_type": "code",
   "execution_count": 264,
   "metadata": {},
   "outputs": [
    {
     "name": "stdout",
     "output_type": "stream",
     "text": [
      "[ -7.29604783  -0.4715534  -10.70829505]\n",
      "expected result: [ -7.29604783  -0.4715534  -10.70829505]\n",
      "[-14.12054227 -10.70829505  -7.29604783]\n"
     ]
    }
   ],
   "source": [
    "def LogProbabilities(s: np.ndarray[int, int], c: np.ndarray[int], mu: float) -> np.ndarray[float]:\n",
    "    \"\"\"\n",
    "    ndarray[int,int] * ndarray[int] * float -> ndarray[float]\n",
    "    \"\"\"\n",
    "    ## Your code here\n",
    "    mutations = np.count_nonzero(s - c, axis=1)\n",
    "    return np.log(mu / 3) * mutations + np.log(1-mu) * (s.shape[1]-mutations)\n",
    "    \n",
    "\n",
    "print(LogProbabilities(s, c1, 0.09))\n",
    "print(\"expected result:\", np.log([0.91**3*0.03**2, 0.91**5, 0.91**2 * 0.03**3]))\n",
    "print(LogProbabilities(s, c2, 0.09))"
   ]
  },
  {
   "cell_type": "markdown",
   "metadata": {},
   "source": [
    "### 2. Compute the class posteriors \n",
    "\n",
    "This function takes as argument a set of representatives, a set of error rate and the class priors and returns a \n",
    "matrix of all the class posterior. You can use the function `LogProbabilities` to simplify the computation.\n"
   ]
  },
  {
   "cell_type": "code",
   "execution_count": 226,
   "metadata": {},
   "outputs": [
    {
     "name": "stdout",
     "output_type": "stream",
     "text": [
      "[[9.98914355e-01 1.08564536e-03]\n",
      " [9.99964172e-01 3.58281206e-05]\n",
      " [3.19148936e-02 9.68085106e-01]]\n"
     ]
    }
   ],
   "source": [
    "def ClassPosterior(s: np.ndarray[int, int], list_c: np.ndarray[int,int], list_mu: np.ndarray[float], \n",
    "                   priors: np.ndarray[float]) -> np.ndarray[float, float]:\n",
    "    \"\"\"\n",
    "    ndarray[int, int] * ndarray[int] * ndarray[float] * ndarray[float] -> ndarray[float, float]\n",
    "    \"\"\"\n",
    "    ### Your code here\n",
    "    logprobs = np.tile(0.0, (s.shape[0], len(list_c)))\n",
    "    for i in range(0, len(list_c)):\n",
    "        logprobs[:,i] = LogProbabilities(s, list_c[i], list_mu[i])\n",
    "    probs = np.exp(logprobs) * priors\n",
    "    return probs / np.vstack(probs.sum(1))\n",
    "\n",
    "\n",
    "mus = np.array([0.09, 0.09])\n",
    "pi = np.array([0.5, 0.5])\n",
    "posteriors = ClassPosterior(s, np.array([c1, c2]), mus, pi)\n",
    "\n",
    "print(posteriors)\n",
    "##Expected output\n",
    "#[[9.98914355e-01 1.08564536e-03]\n",
    "# [9.99964172e-01 3.58281206e-05]\n",
    "# [3.19148936e-02 9.68085106e-01]]"
   ]
  },
  {
   "cell_type": "markdown",
   "metadata": {},
   "source": [
    "### 3. Compute the loglikelihood of the sequences\n",
    "\n",
    "Compute the conditional loglikelihood of the sequences by integrating over all possible class membership (note that you will have to compute an exponential of the logprobabilities computed with the previous function.\n",
    "$$\n",
    "\\log P(s_1,\\ldots, s_n \\mid (c_1, \\ldots, c_K), (\\mu_1, \\ldots, \\mu_K), (\\pi_1,\\ldots, \\pi_K)) = \n",
    "\\sum_{i=1}^n \\log \\Big(\\sum_{i=1}^K \\pi_k P(s_i \\mid z_i = k)\\Big)\n",
    "$$\n",
    "(note: $z_i$ is the class of the sequence $s_i$)"
   ]
  },
  {
   "cell_type": "code",
   "execution_count": null,
   "metadata": {},
   "outputs": [
    {
     "name": "stdout",
     "output_type": "stream",
     "text": [
      "-17.109533265532214\n"
     ]
    }
   ],
   "source": [
    "def conditional_loglikelihood(s: np.ndarray[int, int], list_c: np.ndarray[int, int], \n",
    "                              list_mu: np.ndarray[float], priors: np.ndarray[float]) -> float:\n",
    "    \"\"\"\n",
    "    ndarray[int, int] * ndarray[int] * ndarray[float] * ndarray[float] -> float\n",
    "    \"\"\"\n",
    "    ##Your code here\n",
    "    logprobs = np.tile(0.0, (s.shape[0], len(list_c)))\n",
    "    for i in range(0, len(list_c)):\n",
    "        logprobs[:,i] = LogProbabilities(s, list_c[i], list_mu[i])\n",
    "    return np.sum(np.log(np.sum(priors * np.exp(logprobs), 1)))\n",
    "\n",
    "print(conditional_loglikelihood(s, np.array([c1, c2]), mus, pi))"
   ]
  },
  {
   "cell_type": "markdown",
   "metadata": {},
   "source": [
    "## Estimating class representatives and implementing EM _light_\n",
    "\n",
    "In the following we will implement a simplified version of EM with binary class allocations (each sequence is in the class where it has the highest posterior probability).\n",
    "\n",
    "We will first write a function to update class representative and error rate from a set of sequences and then\n",
    "implement EM\n"
   ]
  },
  {
   "cell_type": "markdown",
   "metadata": {},
   "source": [
    "### 1. Write two functions, one to estimate the sequence representative and one to estimate the error rate\n",
    "\n",
    "From set of sequences, we compute first the profile of the sequences at each position and as consensus the most\n",
    "represented nucleotide. We then estimate the error rate by counting the number of differences to the consensus.\n",
    "\n"
   ]
  },
  {
   "cell_type": "code",
   "execution_count": 350,
   "metadata": {},
   "outputs": [
    {
     "name": "stdout",
     "output_type": "stream",
     "text": [
      "[0 1 3 1 0]\n",
      "0.3333333333333333\n"
     ]
    }
   ],
   "source": [
    "from typing import Optional\n",
    "def estimate_representative(s: np.ndarray[int, int]) -> Optional[np.ndarray[int]]:\n",
    "    \"\"\"\n",
    "    ndarray[int, int] -> ndarray[int]    \n",
    "    from a n * L matrix of sequences, returns the consensus sequence \n",
    "    \"\"\"\n",
    "    return np.apply_along_axis(lambda x: np.argmax(np.bincount(x)), 0, s) if s.shape[0] != 0 else None\n",
    "    \n",
    "def estimate_error_rate(s: np.ndarray[int, int], c: np.ndarray[int, int]) -> float:\n",
    "    \"\"\"\n",
    "    ndarray[int, int] -> float\n",
    "    \"\"\"\n",
    "    return (np.count_nonzero(s - c) or 1) / s.shape[1] / s.shape[0]\n",
    "\n",
    "c = estimate_representative(s)\n",
    "mu = estimate_error_rate(s, c)\n",
    "print(c) # [0 1 3 1 0]\n",
    "print(mu) # 0.3333333333333333\n",
    "    "
   ]
  },
  {
   "cell_type": "markdown",
   "metadata": {},
   "source": [
    "### 2. Implementing EM\n",
    "\n",
    "We will implement the EM algorithm with fixed class allocation:    \n",
    "\n",
    "0. fix the number of clusters $K$\n",
    "1. Initialise random allocation of the representative. The most common way is to sample the $K$ representative from the set of points **(do not initialize with random sequences!)**. \n",
    "2. Until convergence\n",
    "    - Compute the class posteriors for each sequence\n",
    "    - Allocate each sequence to the most probable class\n",
    "    - Update cluster representative and error rate\n",
    "\n",
    "Note that this algorithm works in the spirit of the K-means algorithm in the sense that the class allocations are fixed at each step. However, an adapation of K-means to multinoulli would only estimate class centers. Here we estimate class centers $c_k$ and the error rate $\\mu_k$ for each class.\n",
    "\n",
    "If the algorithm does not converge well, you can inspire yourself from the kmean++ algorithm for initialisation. \n",
    "\n",
    "For the convergence criterion we can monitor the class representatives and stop when they do not change anymore.\n",
    "\n",
    "The function will return a matrix (K x L) of the class representatives, a vector of the class proportions and optionally a vector of the likelihoods at each iteration.\n",
    "\n"
   ]
  },
  {
   "cell_type": "code",
   "execution_count": null,
   "metadata": {},
   "outputs": [],
   "source": [
    "def EM(s: np.ndarray[int, int], K: int, threshold: float = 1e-4, max_iter: int = 1000\n",
    "       ) -> tuple[np.ndarray[int,int], np.ndarray[float], np.ndarray[float]]:\n",
    "    \"\"\"\n",
    "    ndarray[int,int] * int -> (ndarray[int, int], ndarray[float], ndarray[float])\n",
    "    \"\"\"\n",
    "    # c = s[np.random.choice(s.shape[0], K, replace=False)]\n",
    "    c = np.tile(0, (K, s.shape[1]))\n",
    "    c[0] = s[np.random.choice(s.shape[0], 1)]\n",
    "    distances = np.tile(0, (K, s.shape[0]))\n",
    "    distances[0] = np.linalg.norm(s-c[0], axis=1)\n",
    "    for i in range(1, K):\n",
    "        weights = distances[:i].min(0)\n",
    "        c[i] = s[np.random.choice(s.shape[0], 1, p=weights/weights.sum())]\n",
    "        distances[i] = np.linalg.norm(s-c[i], axis=1)\n",
    "\n",
    "    mu = np.tile(0.1, K)\n",
    "    pi = np.tile(1 / K, K)\n",
    "    condlikes = [conditional_loglikelihood(s, c, mu, pi)]\n",
    "\n",
    "    for _ in range(0, max_iter):\n",
    "        posteriors = ClassPosterior(s, c, mu, pi)\n",
    "\n",
    "        seqs_per_class = {k: list() for k in range(0, K)}\n",
    "        for i,v in enumerate(np.argmax(posteriors, axis=1)): # group sequences by class\n",
    "            seqs_per_class[v] += [i]\n",
    "\n",
    "        c_u, mu_u, pi_u = np.empty_like(c), np.empty_like(mu), np.empty_like(pi)\n",
    "        for k in range(0, K):\n",
    "            if len(seqs_per_class[k]):\n",
    "                s_k = s[seqs_per_class[k]]\n",
    "                c_u[k] = estimate_representative(s_k)\n",
    "                mu_u[k] = estimate_error_rate(s_k, c[k])\n",
    "                pi_u[k] = len(s_k) / len(s)\n",
    "            else: # empty class ! -> some arbitrary values, pi = 0\n",
    "                c_u[k] = np.zeros_like(c[k])\n",
    "                mu_u[k] = np.tile(0.5, mu[k].shape)\n",
    "                pi_u[k] = 0\n",
    "\n",
    "        condlike_u = conditional_loglikelihood(s, c_u, mu_u, pi_u)\n",
    "        c, mu, pi = c_u, mu_u, pi_u\n",
    "        if abs(condlike_u - condlikes[-1]) < threshold:\n",
    "            break\n",
    "        \n",
    "        condlikes.append(condlike_u)\n",
    "    return c, mu, pi, np.array(condlikes)\n"
   ]
  },
  {
   "cell_type": "markdown",
   "metadata": {},
   "source": [
    "### 3. Validating on simulated data\n",
    "\n",
    "\n",
    "The file `simul_3_clusters.csv` contains a simulation of 400 sequences of length 100 sampled from 3 clusters with proportions $\\pi = (0.6, 0.3, 0.1) $. \n",
    "- Apply EM on the simulated sequences \n",
    "- Verify that the estimation of the clusters worked correctly by checking the estimated class representative and the prior (file `simul_representatives.csv`)\n",
    "- Verify the class allocations as well (file `simul_sequences_class.csv`)\n",
    "- What are the error rates $(\\mu_1, \\mu_2, \\mu_3)$ for each of the classes?\n",
    "\n",
    "**Note: be careful while loading the file `simul_representatives.csv`, it has no header**\n",
    "\n",
    "### 4. Determining the number of clusters\n",
    "\n",
    "Run EM for $K$ ranging from 2 to 10 and record the loglikelihood for each adjusted model adjusted.\n",
    "Plot the value of the loglikelihood against $K$, what do you observe?\n"
   ]
  },
  {
   "cell_type": "code",
   "execution_count": 254,
   "metadata": {},
   "outputs": [],
   "source": [
    "s_simul = np.loadtxt(\"simul_3_clusters.csv\", delimiter=\",\", dtype=\"int\")\n",
    "c_simul = np.loadtxt(\"simul_representatives.csv\", delimiter=\",\", dtype=\"int\")\n",
    "seq_simul = np.loadtxt(\"simul_sequences_class.csv\", delimiter=\",\", dtype=\"int\")"
   ]
  },
  {
   "cell_type": "code",
   "execution_count": null,
   "metadata": {},
   "outputs": [
    {
     "name": "stdout",
     "output_type": "stream",
     "text": [
      "----------------------------------------------------------------------------------------------------|\n",
      "[0.6175 0.315  0.0675] [0.10121457 0.05174603 0.01777778] -14754.90281681751\n"
     ]
    }
   ],
   "source": [
    "c, mu, pi, loglikes = EM(s_simul, 3)\n",
    "for i in range(0, 100): # noise insulation\n",
    "    print(\"-\", end=\"\")\n",
    "    c_i, mu_i, pi_i, loglikes_i = EM(s_simul, 3)\n",
    "    if loglikes_i[-1] > loglikes[-1]:\n",
    "        c, mu, pi, loglikes = c_i, mu_i, pi_i, loglikes_i\n",
    "print(\"|\")\n",
    "print(pi, mu, loglikes[-1])"
   ]
  },
  {
   "cell_type": "code",
   "execution_count": 421,
   "metadata": {},
   "outputs": [
    {
     "name": "stdout",
     "output_type": "stream",
     "text": [
      "Representatives off by [0. 0. 0.]\n",
      "Priors off by [0. 0. 0.]\n",
      "Mismatched class allocations: 0/400\n",
      "Error rates: [0.10121457 0.05174603 0.01777778]\n"
     ]
    }
   ],
   "source": [
    "print(f\"Representatives off by {np.apply_along_axis(lambda ci: np.linalg.norm(c_simul - ci, axis=1).min(), 1, c)}\")\n",
    "print(f\"Priors off by {np.unique(seq_simul, return_counts=True)[1] / len(seq_simul) + sorted(-pi)}\")\n",
    "allocations = np.argmax(ClassPosterior(s_simul, c, mu, pi), axis=1)\n",
    "print(f\"Mismatched class allocations: {np.count_nonzero(allocations - seq_simul)}/{len(allocations)}\")\n",
    "print(f\"Error rates: {mu}\")"
   ]
  },
  {
   "cell_type": "code",
   "execution_count": null,
   "metadata": {},
   "outputs": [
    {
     "name": "stdout",
     "output_type": "stream",
     "text": [
      "k = 2: [-15677 -19471 -15677 -15677 -15677 -15677 -19483 -19483 -15677 -15677]\n",
      "k = 3: [-19483 -15677 -15677 -15677 -15677 -15675 -15625 -15677 -15677 -15677]\n",
      "k = 4: [-15618 -14708 -15609 -15556 -15614 -15677 -14705 -15663 -15653 -18507]\n",
      "k = 5: [-14704 -15677 -14702 -14699 -14705 -14673 -15667 -15645 -15598 -15626]\n",
      "k = 6: [-14666 -15620 -14659 -15635 -15586 -15550 -15618 -14663 -15636 -14644]\n",
      "k = 7: [-15584 -14663 -14643 -15563 -14605 -15542 -14636 -15560 -14650 -15525]\n",
      "k = 8: [-15667 -14587 -14594 -14690 -15571 -14656 -15628 -14604 -14589 -15611]\n",
      "k = 9: [-15519 -14560 -15507 -14579 -14581 -15412 -14630 -14552 -14682 -14620]\n",
      "k = 10: [-15476 -14501 -14604 -15483 -14551 -14650 -15500 -15511 -14577 -15582]\n"
     ]
    },
    {
     "data": {
      "image/png": "[encoded data removed]",
      "text/plain": [
       "<Figure size 640x480 with 1 Axes>"
      ]
     },
     "metadata": {},
     "output_type": "display_data"
    }
   ],
   "source": [
    "import matplotlib.pyplot as plt\n",
    "## Write the code here to check the number of clusters.\n",
    "loglikelihoods = np.tile(0, (9,10))\n",
    "for k in range(2, 11):\n",
    "    print(f\"k = {k}: \", end=\"\")\n",
    "    for i in range(0, 10):\n",
    "        c_k, mu_k, pi_k, loglikes_k = EM(s_simul, k)\n",
    "        loglikelihoods[k-2][i] = loglikes_k[-1]\n",
    "    print(loglikelihoods[k-2])\n",
    "\n",
    "plt.plot(range(2, 11), loglikelihoods.mean(1))\n",
    "plt.show()\n",
    "# increasing the number of clusters seems to increase the fit\n",
    "# as the initialization becomes better - poorly initialized or extraneous\n",
    "# representatives just get eliminated"
   ]
  },
  {
   "cell_type": "markdown",
   "metadata": {},
   "source": [
    "## Application to real data: Ebola"
   ]
  },
  {
   "cell_type": "markdown",
   "metadata": {},
   "source": [
    "We gonna apply our clustering method to real sequences from the Ebola epidemics in west Africa in 2014-2016. \n",
    "We will first start with a simple \"detective work\" on a set of simple sequences to understand the questions related to outbreak analysis.  \n",
    "\n",
    "**!!! This part is more difficult to complete, do not hesitate to reach out for guidance on the data analysis and on the initialisation of the EM parameters!!!**\n",
    "\n",
    "\n",
    "### 1. Detective training\n",
    "\n",
    "This part is condensed from an activity proposed on the excellent [HHMI biointeractive website](https://www.biointeractive.org/classroom-resources/ebola-disease-detectives). It is recommended start by reading this [short summary on the Ebola epidemics](https://www.biointeractive.org/sites/default/files/Introduction-to-Ebola.pdf). \n",
    "\n",
    "Below is a set of DNA sequences that includes the reference sample from Guinea and 15 Ebola DNA sequences from samples of patients in Sierra Leone. We will reason on those sequences to understand better how genomic information can help understanding the spread of a virus. \n",
    "\n",
    "\n",
    "- The shaded nucleotides in sequences 1–15 represent mutations that occurred in these different viruses compared to the reference sequence. (Remember that the reference sequence is from a virus that was present at the start of the outbreak.) \n",
    "- Move the Ebola sequences 1–15 around to identify patterns in the mutations.\n",
    "- Group sequences according to any patterns you see.\n",
    "- Every sequence should be in a group, even if they are not identical. Use your groupings to answer the analysis questions.\n",
    "\n",
    "<div>\n",
    "<img src=\"ebola_sequences.png\" width=\"400\"/>\n",
    "</div>\n",
    "\n",
    "\n",
    "\n",
    "#### 1.a Write your groups below\n",
    "\n"
   ]
  },
  {
   "cell_type": "markdown",
   "metadata": {},
   "source": [
    "Group 1: Sequences 2, 5, 7, 8, 10, 12, 15.    \n",
    "Group 2: Sequences 1, 3, 4, 6, 9, 11, 13, 14.    "
   ]
  },
  {
   "cell_type": "markdown",
   "metadata": {},
   "source": [
    "#### 1.b What was your criteria to construct this grouping? Could you have used an alternative criteria?"
   ]
  },
  {
   "cell_type": "markdown",
   "metadata": {},
   "source": [
    "My criterion was to group viral dna by strain - a successful strain is indicated by a large number of sequences with almost identical mutations. All sequences possess an identical mutation in the 2nd and 6th nucleotides, but members of group 2 also possess an identical mutation in the 1st, 7th, 12th and 13th nucleotide. No other pattern is directly apparent, the rest of the mutations seem to be noise.    \n",
    "\n",
    "Sequences 8 and 12 are identical, sequences 10 and 1 have particulary significant additional mutations, so they could all be given individual groups."
   ]
  },
  {
   "cell_type": "markdown",
   "metadata": {},
   "source": [
    "#### 1.c If a sequence has a larger number of mutations when compared to the reference sequence, does that mean it is from earlier or later in the outbreak? Explain your answer. "
   ]
  },
  {
   "cell_type": "markdown",
   "metadata": {},
   "source": [
    "On average, it means it is from later in the outbreak, as mutations happen randomly over time and therefore the amount of mutations tends to trend up."
   ]
  },
  {
   "cell_type": "markdown",
   "metadata": {},
   "source": [
    "#### 1.d Create a visual that highlights the relationship between your groups. Examples of effective visuals include flowcharts and trees. Be sure that your visual includes an arrow indicating passage of time during the outbreak. \n"
   ]
  },
  {
   "cell_type": "markdown",
   "metadata": {},
   "source": [
    "<div>\n",
    "<img src=\"ebola_sequences_done.png\"/>\n",
    "</div>"
   ]
  },
  {
   "cell_type": "markdown",
   "metadata": {},
   "source": [
    "### 2. Testing the clustering algorithm\n",
    "\n",
    "Let's apply our clustering algorithm to a set of sequences from the 2014-2016 epidemics. We started from the genome data available on [this website](https://github.com/ebov/space-time) listing 1610 sequences during the pandemics. We selected a subset of sequences and recorded only positions that are changing. We also prepared the data as a numpy array. \n",
    "\n",
    "#### 2.a Run the mixture model for different values of $k$ \n",
    "\n",
    "#### 2.b Determine the most suited value for $k$. What about the resulting groups, are they very diverse?"
   ]
  },
  {
   "cell_type": "code",
   "execution_count": null,
   "metadata": {},
   "outputs": [],
   "source": [
    "# Loading data\n",
    "\n",
    "sequences = pkl.load( open('ebola.pkl', 'rb'))\n",
    "\n",
    "# Running EM with different values for k\n",
    "\n",
    "\n",
    "# Determine the best value for k"
   ]
  },
  {
   "cell_type": "markdown",
   "metadata": {},
   "source": [
    "#### 2.c Do you see limitations in applying the clustering algorithm to an outbreak? What are the advantages? What would be an alternative method?"
   ]
  },
  {
   "cell_type": "markdown",
   "metadata": {},
   "source": []
  }
 ],
 "metadata": {
  "kernelspec": {
   "display_name": "f2c",
   "language": "python",
   "name": "python3"
  },
  "language_info": {
   "codemirror_mode": {
    "name": "ipython",
    "version": 3
   },
   "file_extension": ".py",
   "mimetype": "text/x-python",
   "name": "python",
   "nbconvert_exporter": "python",
   "pygments_lexer": "ipython3",
   "version": "3.10.14"
  }
 },
 "nbformat": 4,
 "nbformat_minor": 2
}
