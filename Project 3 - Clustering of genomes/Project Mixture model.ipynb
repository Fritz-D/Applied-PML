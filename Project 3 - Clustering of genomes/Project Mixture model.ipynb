{
 "cells": [
  {
   "cell_type": "markdown",
   "metadata": {},
   "source": [
    "Names of Students and ID: Fritz Darchinger 813336    \n",
    "Group number: Group F    "
   ]
  },
  {
   "cell_type": "markdown",
   "metadata": {},
   "source": [
    "# Clustering of genomic sequences with Mixture Models\n",
    "\n",
    "\n",
    "The goal of the project is to implement a mixture model that can cluster genomic sequences. \n",
    "This jupyter notebook will serve as a guide for the different steps of the implementation of the model and of its estimation. The last part is an application to a dataset from the Ebola epidemics.\n",
    "\n",
    "### For grading, you are just expected to fill in this notebook. However the accompanying project sheet contains complementary information and it is recommended to study it before.\n",
    "\n",
    "## Representative sequences \n",
    "\n",
    "Sequences will be encoded as vectors of integers with values between 0 (A) and 3 (T). \n",
    "\n",
    "We will first code functions to estimate a representative from a set of sequences and to compute the probability of a sequence given a representative and an error rate.\n"
   ]
  },
  {
   "cell_type": "code",
   "execution_count": 1,
   "metadata": {},
   "outputs": [
    {
     "name": "stdout",
     "output_type": "stream",
     "text": [
      "[0 1 3 1 3] [1 1 1 0 3]\n",
      "[[0 1 0 1 0]\n",
      " [0 1 3 1 3]\n",
      " [1 1 3 0 2]]\n"
     ]
    }
   ],
   "source": [
    "import numpy as np \n",
    "\n",
    "##Constants\n",
    "nDNA = 4\n",
    "\n",
    "c1 = np.array([0,1,3,1,3]) #c1 is the sequence ACTAT\n",
    "c2 = np.array([1,1,1,0,3]) #c2 is the sequence CCCAG\n",
    "#(s1,s2,s3) = (ACACA, ACTAT, CCTAG)\n",
    "s = np.array([[0,1,0,1,0], [0,1,3,1,3], [1,1,3,0,2]]) \n",
    "\n",
    "print(c1, c2)\n",
    "\n",
    "print(s)\n"
   ]
  },
  {
   "cell_type": "markdown",
   "metadata": {},
   "source": [
    "## Simulating sequences\n",
    "\n",
    "### Write a functions to simulate a set of sequences from a cluster.\n",
    "\n",
    "This function will take as input a representative `c` the error rate `mu` and `n` the number of sequences\n",
    "to generate and return a numpy array of dimension `(n, len(c))`.\n"
   ]
  },
  {
   "cell_type": "code",
   "execution_count": 12,
   "metadata": {},
   "outputs": [
    {
     "name": "stdout",
     "output_type": "stream",
     "text": [
      "theoretical mutation rate: 0.1, simulated mutation rate 0.10006280000000001\n"
     ]
    }
   ],
   "source": [
    "def simulate_seqs(n: int, c: np.ndarray[int], mu: float) -> np.ndarray[int, int]:\n",
    "    \"\"\"\n",
    "    int * ndarray[int] * float -> ndarray[int,int]\n",
    "    \"\"\"\n",
    "    seqs = np.tile(c, (n,1))\n",
    "    #your code here\n",
    "    return (seqs + np.random.choice([0,1,2,3], size=seqs.shape, p=(1-mu,mu/3,mu/3,mu/3))) % 4\n",
    "\n",
    "##Simulate 100 sequences with mu=0.1 and verify that the average percentage\n",
    "##of mutation is indeed 10% (in other words we expect on average a mutation every ten positions)\n",
    "\n",
    "n1 = 1000000\n",
    "mu1 = 0.1\n",
    "ssim = simulate_seqs(n1, c1, mu1)\n",
    "\n",
    "#your code here\n",
    "mu1_sim = np.count_nonzero(ssim - c1) / len(c1) / n1\n",
    "print(f\"theoretical mutation rate: {mu1}, simulated mutation rate {mu1_sim}\")"
   ]
  },
  {
   "cell_type": "markdown",
   "metadata": {},
   "source": [
    "## Computing sequence probabilities\n",
    "\n",
    "### 1. Write a function that computes the log probability for a set of sequences\n",
    "\n",
    "It will take as input a matrix of sequences, the representative, and the  error rate `mu`\n"
   ]
  },
  {
   "cell_type": "code",
   "execution_count": 3,
   "metadata": {},
   "outputs": [
    {
     "name": "stdout",
     "output_type": "stream",
     "text": [
      "[ -7.29604783  -0.4715534  -10.70829505]\n",
      "expected result: [ -7.29604783  -0.4715534  -10.70829505]\n",
      "[-14.12054227 -10.70829505  -7.29604783]\n"
     ]
    }
   ],
   "source": [
    "def LogProbabilities(s: np.ndarray[int, int], c: np.ndarray[int], mu: float) -> np.ndarray[float]:\n",
    "    \"\"\"\n",
    "    ndarray[int,int] * ndarray[int] * float -> ndarray[float]\n",
    "    \"\"\"\n",
    "    ## Your code here\n",
    "    mutations = np.count_nonzero(s - c, axis=1)\n",
    "    return np.log(mu / 3) * mutations + np.log(1-mu) * (s.shape[1]-mutations)\n",
    "    \n",
    "\n",
    "print(LogProbabilities(s, c1, 0.09))\n",
    "print(\"expected result:\", np.log([0.91**3*0.03**2, 0.91**5, 0.91**2 * 0.03**3]))\n",
    "print(LogProbabilities(s, c2, 0.09))"
   ]
  },
  {
   "cell_type": "markdown",
   "metadata": {},
   "source": [
    "### 2. Compute the class posteriors \n",
    "\n",
    "This function takes as argument a set of representatives, a set of error rate and the class priors and returns a \n",
    "matrix of all the class posterior. You can use the function `LogProbabilities` to simplify the computation.\n"
   ]
  },
  {
   "cell_type": "code",
   "execution_count": 4,
   "metadata": {},
   "outputs": [
    {
     "name": "stdout",
     "output_type": "stream",
     "text": [
      "[[9.98914355e-01 1.08564536e-03]\n",
      " [9.99964172e-01 3.58281206e-05]\n",
      " [3.19148936e-02 9.68085106e-01]]\n"
     ]
    }
   ],
   "source": [
    "def ClassPosterior(s: np.ndarray[int, int], list_c: np.ndarray[int,int], list_mu: np.ndarray[float], \n",
    "                   priors: np.ndarray[float]) -> np.ndarray[float, float]:\n",
    "    \"\"\"\n",
    "    ndarray[int, int] * ndarray[int] * ndarray[float] * ndarray[float] -> ndarray[float, float]\n",
    "    \"\"\"\n",
    "    ### Your code here\n",
    "    logprobs = np.vectorize(lambda i: LogProbabilities(s, list_c[i], list_mu[i]), signature='()->(n)')(range(len(list_c)))\n",
    "    probs = np.exp(logprobs.T) * priors\n",
    "    probsums = np.vstack(probs.sum(1))\n",
    "    return probs / np.where(probsums==0, 1, probsums)\n",
    "\n",
    "\n",
    "mus = np.array([0.09, 0.09])\n",
    "pi = np.array([0.5, 0.5])\n",
    "posteriors = ClassPosterior(s, np.array([c1, c2]), mus, pi)\n",
    "\n",
    "print(posteriors)\n",
    "##Expected output\n",
    "#[[9.98914355e-01 1.08564536e-03]\n",
    "# [9.99964172e-01 3.58281206e-05]\n",
    "# [3.19148936e-02 9.68085106e-01]]"
   ]
  },
  {
   "cell_type": "markdown",
   "metadata": {},
   "source": [
    "### 3. Compute the loglikelihood of the sequences\n",
    "\n",
    "Compute the conditional loglikelihood of the sequences by integrating over all possible class membership (note that you will have to compute an exponential of the logprobabilities computed with the previous function.\n",
    "$$\n",
    "\\log P(s_1,\\ldots, s_n \\mid (c_1, \\ldots, c_K), (\\mu_1, \\ldots, \\mu_K), (\\pi_1,\\ldots, \\pi_K)) = \n",
    "\\sum_{i=1}^n \\log \\Big(\\sum_{i=1}^K \\pi_k P(s_i \\mid z_i = k)\\Big)\n",
    "$$\n",
    "(note: $z_i$ is the class of the sequence $s_i$)"
   ]
  },
  {
   "cell_type": "code",
   "execution_count": 5,
   "metadata": {},
   "outputs": [
    {
     "name": "stdout",
     "output_type": "stream",
     "text": [
      "-17.109533265532214\n"
     ]
    }
   ],
   "source": [
    "def conditional_loglikelihood(s: np.ndarray[int, int], list_c: np.ndarray[int, int], \n",
    "                              list_mu: np.ndarray[float], priors: np.ndarray[float]) -> float:\n",
    "    \"\"\"\n",
    "    ndarray[int, int] * ndarray[int] * ndarray[float] * ndarray[float] -> float\n",
    "    \"\"\"\n",
    "    ##Your code here\n",
    "    logprobs = np.vectorize(lambda i: LogProbabilities(s, list_c[i], list_mu[i]), signature='()->(n)')(range(len(list_c)))\n",
    "    innersum = np.sum(priors * np.exp(logprobs.T), 1)\n",
    "    return np.sum(np.where(innersum == 0, 0, np.log(innersum)))\n",
    "\n",
    "print(conditional_loglikelihood(s, np.array([c1, c2]), mus, pi))"
   ]
  },
  {
   "cell_type": "markdown",
   "metadata": {},
   "source": [
    "## Estimating class representatives and implementing EM _light_\n",
    "\n",
    "In the following we will implement a simplified version of EM with binary class allocations (each sequence is in the class where it has the highest posterior probability).\n",
    "\n",
    "We will first write a function to update class representative and error rate from a set of sequences and then\n",
    "implement EM\n"
   ]
  },
  {
   "cell_type": "markdown",
   "metadata": {},
   "source": [
    "### 1. Write two functions, one to estimate the sequence representative and one to estimate the error rate\n",
    "\n",
    "From set of sequences, we compute first the profile of the sequences at each position and as consensus the most\n",
    "represented nucleotide. We then estimate the error rate by counting the number of differences to the consensus.\n",
    "\n"
   ]
  },
  {
   "cell_type": "code",
   "execution_count": 6,
   "metadata": {},
   "outputs": [
    {
     "name": "stdout",
     "output_type": "stream",
     "text": [
      "[0 1 3 1 0]\n",
      "0.3333333333333333\n"
     ]
    }
   ],
   "source": [
    "from typing import Optional\n",
    "def estimate_representative(s: np.ndarray[int, int]) -> Optional[np.ndarray[int]]:\n",
    "    \"\"\"\n",
    "    ndarray[int, int] -> ndarray[int]    \n",
    "    from a n * L matrix of sequences, returns the consensus sequence \n",
    "    \"\"\"\n",
    "    return np.apply_along_axis(lambda x: np.argmax(np.bincount(x)), 0, s) if s.shape[0] != 0 else None\n",
    "    \n",
    "def estimate_error_rate(s: np.ndarray[int, int], c: np.ndarray[int, int]) -> float:\n",
    "    \"\"\"\n",
    "    ndarray[int, int] -> float\n",
    "    \"\"\"\n",
    "    return (np.count_nonzero(s - c) or 1) / s.shape[1] / s.shape[0] # note: applied 'smoothing' because we know mu != 0\n",
    "\n",
    "c = estimate_representative(s)\n",
    "mu = estimate_error_rate(s, c)\n",
    "print(c) # [0 1 3 1 0]\n",
    "print(mu) # 0.3333333333333333\n",
    "    "
   ]
  },
  {
   "cell_type": "markdown",
   "metadata": {},
   "source": [
    "### 2. Implementing EM\n",
    "\n",
    "We will implement the EM algorithm with fixed class allocation:    \n",
    "\n",
    "0. fix the number of clusters $K$\n",
    "1. Initialise random allocation of the representative. The most common way is to sample the $K$ representative from the set of points **(do not initialize with random sequences!)**. \n",
    "2. Until convergence\n",
    "    - Compute the class posteriors for each sequence\n",
    "    - Allocate each sequence to the most probable class\n",
    "    - Update cluster representative and error rate\n",
    "\n",
    "Note that this algorithm works in the spirit of the K-means algorithm in the sense that the class allocations are fixed at each step. However, an adapation of K-means to multinoulli would only estimate class centers. Here we estimate class centers $c_k$ and the error rate $\\mu_k$ for each class.\n",
    "\n",
    "If the algorithm does not converge well, you can inspire yourself from the kmean++ algorithm for initialisation. \n",
    "\n",
    "For the convergence criterion we can monitor the class representatives and stop when they do not change anymore.\n",
    "\n",
    "The function will return a matrix (K x L) of the class representatives, a vector of the class proportions and optionally a vector of the likelihoods at each iteration.\n",
    "\n"
   ]
  },
  {
   "cell_type": "code",
   "execution_count": 7,
   "metadata": {},
   "outputs": [],
   "source": [
    "def EM(s: np.ndarray[int, int], K: int, threshold: float = 1e-4, max_iter: int = 1000\n",
    "       ) -> tuple[np.ndarray[int,int], np.ndarray[float], np.ndarray[float]]:\n",
    "    \"\"\"\n",
    "    ndarray[int,int] * int -> (ndarray[int, int], ndarray[float], ndarray[float])\n",
    "    \"\"\"\n",
    "    # note: k-means++ initialisation with a distance matrix\n",
    "    c = np.tile(0, (K, s.shape[1]))\n",
    "    c[0] = s[np.random.choice(s.shape[0], 1)]\n",
    "    distances = np.tile(0.0, (K, s.shape[0]))\n",
    "    distances[0] = np.linalg.norm(s-c[0], axis=1) # note: forgot the square the distances (oops)\n",
    "    for i in range(1, K):\n",
    "        weights = distances[:i].min(0)\n",
    "        c[i] = s[np.random.choice(s.shape[0], 1, p=weights/weights.sum())]\n",
    "        distances[i] = np.linalg.norm(s-c[i], axis=1)\n",
    "\n",
    "    mu = np.tile(0.1, K) # note: could have calculated for classes from rep but figured 1st iteration of EM does that anyways\n",
    "    pi = np.tile(1 / K, K) # note: as above\n",
    "    condlikes = [conditional_loglikelihood(s, c, mu, pi)]\n",
    "\n",
    "    for _ in range(max_iter):\n",
    "        posteriors = ClassPosterior(s, c, mu, pi)\n",
    "\n",
    "        seqs_per_class = [[] for _ in range(K)]\n",
    "        for i,v in enumerate(np.argmax(posteriors, axis=1)): # group sequences by class\n",
    "            seqs_per_class[v] += [i]\n",
    "\n",
    "        c_u, mu_u, pi_u = np.empty_like(c), np.empty_like(mu), np.empty_like(pi)\n",
    "        for k in range(K):\n",
    "            if seqs_per_class[k]:\n",
    "                s_k = s[seqs_per_class[k]]\n",
    "                c_u[k] = estimate_representative(s_k)\n",
    "                mu_u[k] = estimate_error_rate(s_k, c[k])\n",
    "                pi_u[k] = len(s_k) / len(s)\n",
    "            else: # empty class ! -> some arbitrary values, pi = 0\n",
    "                c_u[k] = np.zeros_like(c[k])\n",
    "                mu_u[k] = np.tile(0.5, mu[k].shape)     # note: i assume empty classes -> extraneous classes, this speeds up runtime significantly\n",
    "                pi_u[k] = 0\n",
    "\n",
    "        condlike_u = conditional_loglikelihood(s, c_u, mu_u, pi_u)\n",
    "        c, mu, pi = c_u, mu_u, pi_u\n",
    "        if abs(condlike_u - condlikes[-1]) / abs(condlike_u) < threshold: # note: stop condition via conditional likelihood, threshold is actually never relevant (changes 0 or >20)\n",
    "            break\n",
    "\n",
    "        condlikes.append(condlike_u)\n",
    "    return c, mu, pi, np.array(condlikes)\n"
   ]
  },
  {
   "cell_type": "markdown",
   "metadata": {},
   "source": [
    "### 3. Validating on simulated data\n",
    "\n",
    "\n",
    "The file `simul_3_clusters.csv` contains a simulation of 400 sequences of length 100 sampled from 3 clusters with proportions $\\pi = (0.6, 0.3, 0.1) $. \n",
    "- Apply EM on the simulated sequences \n",
    "- Verify that the estimation of the clusters worked correctly by checking the estimated class representative and the prior (file `simul_representatives.csv`)\n",
    "- Verify the class allocations as well (file `simul_sequences_class.csv`)\n",
    "- What are the error rates $(\\mu_1, \\mu_2, \\mu_3)$ for each of the classes?\n",
    "\n",
    "**Note: be careful while loading the file `simul_representatives.csv`, it has no header**\n",
    "\n",
    "### 4. Determining the number of clusters\n",
    "\n",
    "Run EM for $K$ ranging from 2 to 10 and record the loglikelihood for each adjusted model adjusted.\n",
    "Plot the value of the loglikelihood against $K$, what do you observe?\n"
   ]
  },
  {
   "cell_type": "code",
   "execution_count": 8,
   "metadata": {},
   "outputs": [],
   "source": [
    "s_simul = np.loadtxt(\"simul_3_clusters.csv\", delimiter=\",\", dtype=\"int\")\n",
    "c_simul = np.loadtxt(\"simul_representatives.csv\", delimiter=\",\", dtype=\"int\")\n",
    "seq_simul = np.loadtxt(\"simul_sequences_class.csv\", delimiter=\",\", dtype=\"int\")"
   ]
  },
  {
   "cell_type": "code",
   "execution_count": 16,
   "metadata": {},
   "outputs": [
    {
     "name": "stdout",
     "output_type": "stream",
     "text": [
      "--------------------------------------------------|\n",
      "[0.315  0.0675 0.6175] [0.05174603 0.01777778 0.10121457] -14754.90281681751\n"
     ]
    }
   ],
   "source": [
    "c, mu, pi, loglikes = EM(s_simul, 3)\n",
    "for i in range(0, 50): # noise insulation\n",
    "    print(\"-\", end=\"\")\n",
    "    c_i, mu_i, pi_i, loglikes_i = EM(s_simul, 3)\n",
    "    if loglikes_i[-1] > loglikes[-1]:\n",
    "        c, mu, pi, loglikes = c_i, mu_i, pi_i, loglikes_i\n",
    "print(\"|\")\n",
    "print(pi, mu, loglikes[-1])"
   ]
  },
  {
   "cell_type": "code",
   "execution_count": 17,
   "metadata": {},
   "outputs": [
    {
     "name": "stdout",
     "output_type": "stream",
     "text": [
      "Representatives off by [0. 0. 0.]\n",
      "Priors off by [0. 0. 0.]\n",
      "Mismatched class allocations: 0/400\n",
      "Error rates: [0.05174603 0.01777778 0.10121457]\n"
     ]
    }
   ],
   "source": [
    "# note: i should have compared classes by representatives but i figured this was enough\n",
    "print(f\"Representatives off by {np.apply_along_axis(lambda ci: np.linalg.norm(c_simul - ci, axis=1).min(), 1, c)}\")\n",
    "print(f\"Priors off by {np.unique(seq_simul, return_counts=True)[1] / len(seq_simul) + sorted(-pi)}\")\n",
    "allocations = np.argmax(ClassPosterior(s_simul, c, mu, pi), axis=1)\n",
    "misallocations = (np.unique(allocations, return_counts=True)[1] - np.unique(seq_simul, return_counts=True)[1]).sum()\n",
    "print(f\"Mismatched class allocations: {misallocations}/{len(allocations)}\")\n",
    "print(f\"Error rates: {mu}\")"
   ]
  },
  {
   "cell_type": "code",
   "execution_count": 18,
   "metadata": {},
   "outputs": [
    {
     "name": "stdout",
     "output_type": "stream",
     "text": [
      "k = 2: [-15677.6494525  -15677.6494525  -15677.6494525  -15677.6494525\n",
      " -15677.6494525  -15677.6494525  -15677.6494525  -19483.99456642\n",
      " -19483.99456642 -15677.6494525  -15677.6494525  -15677.6494525\n",
      " -15677.6494525  -15677.6494525  -15677.6494525  -15677.6494525\n",
      " -19483.99456642 -15677.6494525  -15677.6494525  -19417.08227815\n",
      " -19483.99456642 -19483.99456642 -15677.6494525  -19432.72466573\n",
      " -15677.6494525  -15677.6494525  -15677.6494525  -15677.6494525\n",
      " -19410.82359495 -19448.36095066 -15677.6494525  -15677.6494525\n",
      " -15677.6494525  -15677.6494525  -15677.6494525  -18573.52093287\n",
      " -15677.6494525  -19483.99456642 -19432.72466573 -15677.6494525\n",
      " -15677.6494525  -15677.6494525  -15677.6494525  -15677.6494525\n",
      " -15677.6494525  -15677.6494525  -15677.6494525  -15677.6494525\n",
      " -19483.99456642 -15677.6494525 ]\n",
      "k = 3: [-15677.6494525  -15677.6494525  -15647.13522826 -14754.90281682\n",
      " -15677.6494525  -15645.03281756 -15643.12910809 -15677.6494525\n",
      " -15609.06731926 -15677.6494525  -15653.49335044 -15609.06731926\n",
      " -15677.6494525  -15677.6494525  -15667.89429754 -15677.6494525\n",
      " -15618.88088985 -15651.13967295 -15677.6494525  -15631.9600502\n",
      " -15631.9600502  -15677.6494525  -15659.6653026  -19417.30489085\n",
      " -15677.6494525  -15625.42126966 -19425.22650344 -14754.90281682\n",
      " -15677.6494525  -14754.90281682 -15677.6494525  -15662.05048992\n",
      " -19412.7241814  -15677.6494525  -15677.6494525  -15677.6494525\n",
      " -15625.42126966 -15677.6494525  -19483.99456642 -15677.6494525\n",
      " -15677.6494525  -15655.14244448 -15635.11183202 -15677.6494525\n",
      " -15677.6494525  -15677.06390134 -15677.6494525  -15635.22884107\n",
      " -18528.43766278 -15667.89429754]\n",
      "k = 4: [-15677.6494525  -15576.45183198 -14754.90281682 -14739.73513398\n",
      " -15677.6494525  -15582.99363169 -15617.5497321  -15609.06731926\n",
      " -15620.87463463 -15658.09920008 -15618.88088985 -15653.49335044\n",
      " -15677.6494525  -14754.90281682 -14754.90281682 -14748.33652439\n",
      " -15677.6494525  -15625.42126966 -15677.6494525  -15677.6494525\n",
      " -15677.6494525  -15677.6494525  -19394.758697   -15628.69085978\n",
      " -15677.6494525  -14740.39819022 -15677.6494525  -15617.54859519\n",
      " -14705.78695981 -14720.35292851 -15638.4972325  -15625.69155231\n",
      " -15586.26392919 -15677.6494525  -15638.4972325  -15651.13967295\n",
      " -19429.59667661 -15669.36943115 -15625.42126966 -15649.47305419\n",
      " -15677.6494525  -15641.76522462 -14754.90281682 -15625.42126966\n",
      " -15677.6494525  -19404.3704308  -14754.90281682 -15631.10067147\n",
      " -15618.88088985 -15600.90184512]\n",
      "k = 5: [-14750.78683811 -15596.07241384 -15582.99363169 -14754.90281682\n",
      " -14686.07401041 -15635.11183202 -15625.42126966 -15667.74615945\n",
      " -15596.07241384 -15631.10067147 -19362.67288292 -15628.69085978\n",
      " -15677.6494525  -15654.83320258 -14744.11629452 -14732.38498513\n",
      " -15563.36341016 -15677.6494525  -15677.6494525  -15622.15127973\n",
      " -15669.21168834 -14669.80025018 -15596.37393631 -15550.26855155\n",
      " -15609.06731926 -15677.6494525  -15628.69085978 -15620.5456711\n",
      " -14754.90281682 -15639.12131011 -15590.47539574 -15530.74558759\n",
      " -14754.90281682 -15643.12910809 -14754.90281682 -15657.64818458\n",
      " -15579.72293266 -14746.79415141 -15622.77953746 -15677.6494525\n",
      " -15590.26630849 -14643.51305377 -15627.50895206 -15677.6494525\n",
      " -14686.5530526  -14667.22311007 -15667.60319536 -15601.23767475\n",
      " -15677.6494525  -14680.35612474]\n",
      "k = 6: [-14692.22378163 -15572.50963582 -14678.07671755 -15648.30001145\n",
      " -15677.6494525  -15563.36341016 -15586.26392919 -15514.3784271\n",
      " -14743.49286653 -15480.5899109  -15608.04804765 -15608.5779549\n",
      " -14659.94592559 -14680.36013118 -15586.26392919 -15586.52812471\n",
      " -14725.02122435 -15609.06731926 -15664.26016773 -15620.82893379\n",
      " -14653.37114005 -15572.83145301 -15547.1026572  -15631.9600502\n",
      " -14709.07088429 -15547.56942942 -15568.28024611 -15553.64266325\n",
      " -15555.01372194 -15622.15127973 -15579.72293266 -15676.6655786\n",
      " -14653.37412729 -15582.00790472 -15622.15127973 -14610.81002265\n",
      " -14746.14419684 -14690.79684459 -15599.34110654 -15628.69085978\n",
      " -15563.17245071 -15619.25825371 -14653.37412729 -15571.02795276\n",
      " -14679.65053124 -14734.20104965 -15567.64103964 -15579.72293266\n",
      " -14730.00325044 -15609.45308664]\n",
      "k = 7: [-14733.45889719 -15508.80004664 -14708.5280699  -15527.74276121\n",
      " -14684.49687749 -15628.69085978 -15580.61423278 -14716.33896708\n",
      " -15569.90842515 -14685.30364645 -14660.51707562 -15553.94492107\n",
      " -14657.59674817 -14700.79831559 -14614.09701112 -14730.14744716\n",
      " -14628.89242942 -14697.18760452 -14632.09568344 -14679.65053124\n",
      " -14661.38261259 -15645.16507756 -14607.86287311 -15663.31220881\n",
      " -14696.33838673 -14610.81002265 -14602.38686385 -15515.09843942\n",
      " -14754.90281682 -15504.66651746 -14654.70035344 -14697.49595148\n",
      " -15547.73608792 -15580.11242238 -14715.63739147 -14720.57422498\n",
      " -14645.83434346 -15597.80571085 -14740.06366874 -15579.4745181\n",
      " -15598.32206066 -15579.72293266 -14662.47418338 -15603.35161277\n",
      " -15604.56148643 -14670.21273484 -14719.95617356 -15514.47806311\n",
      " -15590.7324002  -15655.14244448]\n",
      "k = 8: [-15520.92650324 -15497.28778412 -14668.21886087 -15422.93394508\n",
      " -14630.8562956  -14618.82423898 -15528.19008076 -15618.13610493\n",
      " -14694.08298364 -14626.73051942 -15589.78729721 -14672.28180602\n",
      " -14643.51305377 -14625.39603727 -15613.01234021 -14593.0065247\n",
      " -15537.92401904 -14549.89436731 -14612.54545319 -14605.56923757\n",
      " -14728.28214583 -14597.06288213 -14633.03073965 -15492.70211291\n",
      " -14650.66881196 -14692.42992306 -14555.08416074 -14718.15194369\n",
      " -14571.3805825  -14656.6602514  -15596.52768206 -14688.73523425\n",
      " -15575.24541667 -14574.4114248  -14680.36013118 -15551.74383348\n",
      " -15627.35374758 -14745.63548461 -14645.91541638 -14709.99631112\n",
      " -14607.08262373 -15525.04473792 -15543.91304809 -15512.16900791\n",
      " -15578.21481533 -15579.2970742  -14754.90281682 -14685.79104609\n",
      " -14587.78843137 -14703.28203767]\n",
      "k = 9: [-15582.99363169 -14586.11974365 -14615.8276501  -15506.49460872\n",
      " -14728.60684174 -14517.01890485 -14710.42178017 -14642.25742939\n",
      " -15502.65143555 -15529.68831691 -15502.03335111 -14694.47370456\n",
      " -14555.08416074 -15649.62095881 -15441.51738462 -14536.95439504\n",
      " -14591.57917942 -15576.26824726 -15426.77593329 -15582.18691467\n",
      " -15468.5990016  -14542.10309159 -14602.88090801 -15459.25192346\n",
      " -14626.43209222 -14550.45251753 -14622.54657327 -15495.37425283\n",
      " -14629.40835915 -14612.01476132 -15540.62817234 -14557.82998452\n",
      " -14586.0678318  -14667.87910518 -15677.6494525  -14592.78291112\n",
      " -14681.59202423 -14543.69923549 -14591.07858899 -15585.31243962\n",
      " -15517.65266725 -14676.36755324 -15550.18467561 -14648.70593141\n",
      " -15554.67446103 -15514.10712496 -14581.17346413 -14672.78331323\n",
      " -15547.1026572  -15524.6780574 ]\n",
      "k = 10: [-14551.79402643 -15475.25869693 -15559.08971114 -14560.02075969\n",
      " -14575.11982129 -14592.80615985 -14564.35372099 -14572.24617292\n",
      " -14635.64564553 -14667.88010521 -15492.76437333 -14530.06752347\n",
      " -15433.13819074 -14679.62377052 -15498.6700617  -14530.65185565\n",
      " -15469.92500169 -15447.90385748 -14618.05207177 -15574.59558407\n",
      " -14704.10431362 -15459.25192346 -15548.24829811 -14607.37502438\n",
      " -14657.85877967 -14561.49944191 -14621.27329006 -14652.96001507\n",
      " -14563.07578828 -14597.65754471 -14638.97073398 -14617.33541642\n",
      " -14514.03448949 -14668.68672469 -14712.39242798 -14504.31346362\n",
      " -14496.23723731 -14579.79030772 -14628.12275546 -14591.75379026\n",
      " -14547.73817917 -15488.32746501 -14612.90538696 -15511.7478754\n",
      " -15458.83108574 -14657.13269951 -14615.07751985 -14607.34787609\n",
      " -14602.67181998 -15548.02386229]\n",
      "k = 11: [-14563.22840477 -15433.78904904 -14533.07665268 -14637.20474738\n",
      " -14640.80460522 -15573.85783178 -14547.69093885 -14662.5699053\n",
      " -14479.23044385 -14660.68085169 -15549.71591024 -14603.5852941\n",
      " -14608.60839046 -15512.65015134 -14658.71485946 -15379.68721716\n",
      " -14483.11904928 -14580.08081274 -14569.23254358 -14599.34711331\n",
      " -15484.17650761 -15445.83867507 -14572.92959981 -14569.83176917\n",
      " -14472.17256107 -14504.33493914 -15574.14835238 -15404.50668756\n",
      " -15424.42986073 -14581.39810901 -14679.40388205 -14554.32495653\n",
      " -14638.58709653 -14450.15568905 -14458.06014308 -15492.5875479\n",
      " -14582.55088515 -15483.76216904 -15441.73993016 -15508.4206721\n",
      " -14644.50788769 -14566.8469384  -15454.37300687 -15512.92973399\n",
      " -14610.91620826 -14621.37680325 -15529.48699602 -14477.64809268\n",
      " -15574.29744682 -15480.82839105]\n"
     ]
    },
    {
     "data": {
      "image/png": "[encoded data removed]",
      "text/plain": [
       "<Figure size 640x480 with 1 Axes>"
      ]
     },
     "metadata": {},
     "output_type": "display_data"
    }
   ],
   "source": [
    "import matplotlib.pyplot as plt\n",
    "## Write the code here to check the number of clusters.\n",
    "numreps = 50\n",
    "numk = 10\n",
    "loglikelihoods = np.tile(0.0, (numk,numreps))\n",
    "for k in range(2, 2+numk):\n",
    "    print(f\"k = {k}: \", end=\"\")\n",
    "    for i in range(0, numreps):\n",
    "        c_k, mu_k, pi_k, loglikes_k = EM(s_simul, k)\n",
    "        loglikelihoods[k-2][i] = loglikes_k[-1]\n",
    "    print(loglikelihoods[k-2])\n",
    "\n",
    "plt.plot(range(2, 2+numk), loglikelihoods.mean(1))\n",
    "plt.show()\n",
    "# increasing the number of clusters seems to asymptotically increase the \n",
    "# average fit as the initialization becomes better\n",
    "# after all, extraneous representatives just get eliminated\n",
    "# note: this is partially inaccurate; the fit also just becomes better\n",
    "# note: elbow rule here would recommend k = ~6 which is twice the true value"
   ]
  },
  {
   "cell_type": "markdown",
   "metadata": {},
   "source": [
    "## Application to real data: Ebola"
   ]
  },
  {
   "cell_type": "markdown",
   "metadata": {},
   "source": [
    "We gonna apply our clustering method to real sequences from the Ebola epidemics in west Africa in 2014-2016. \n",
    "We will first start with a simple \"detective work\" on a set of simple sequences to understand the questions related to outbreak analysis.  \n",
    "\n",
    "**!!! This part is more difficult to complete, do not hesitate to reach out for guidance on the data analysis and on the initialisation of the EM parameters!!!**\n",
    "\n",
    "\n",
    "### 1. Detective training\n",
    "\n",
    "This part is condensed from an activity proposed on the excellent [HHMI biointeractive website](https://www.biointeractive.org/classroom-resources/ebola-disease-detectives). It is recommended start by reading this [short summary on the Ebola epidemics](https://www.biointeractive.org/sites/default/files/Introduction-to-Ebola.pdf). \n",
    "\n",
    "Below is a set of DNA sequences that includes the reference sample from Guinea and 15 Ebola DNA sequences from samples of patients in Sierra Leone. We will reason on those sequences to understand better how genomic information can help understanding the spread of a virus. \n",
    "\n",
    "\n",
    "- The shaded nucleotides in sequences 1–15 represent mutations that occurred in these different viruses compared to the reference sequence. (Remember that the reference sequence is from a virus that was present at the start of the outbreak.) \n",
    "- Move the Ebola sequences 1–15 around to identify patterns in the mutations.\n",
    "- Group sequences according to any patterns you see.\n",
    "- Every sequence should be in a group, even if they are not identical. Use your groupings to answer the analysis questions.\n",
    "\n",
    "<div>\n",
    "<img src=\"ebola_sequences.png\" width=\"400\"/>\n",
    "</div>\n",
    "\n",
    "\n",
    "\n",
    "#### 1.a Write your groups below\n",
    "\n"
   ]
  },
  {
   "cell_type": "markdown",
   "metadata": {},
   "source": [
    "Group 1: Sequences 2, 5, 7, 8, 10, 12, 15.    \n",
    "Group 2: Sequences 1, 3, 4, 6, 9, 11, 13, 14.    "
   ]
  },
  {
   "cell_type": "markdown",
   "metadata": {},
   "source": [
    "#### 1.b What was your criteria to construct this grouping? Could you have used an alternative criteria?"
   ]
  },
  {
   "cell_type": "markdown",
   "metadata": {},
   "source": [
    "My criterion was to group viral dna by strain - a successful strain is indicated by a large number of sequences with almost identical mutations. All sequences possess an identical mutation in the 2nd and 6th nucleotides, but members of group 2 also possess an identical mutation in the 1st, 7th, 12th and 13th nucleotide. No other pattern is directly apparent, the rest of the mutations seem to be noise.    \n",
    "\n",
    "Sequences 8 and 12 are identical, sequences 10 and 1 have particulary significant additional mutations, so they could all be given individual groups."
   ]
  },
  {
   "cell_type": "markdown",
   "metadata": {},
   "source": [
    "#### 1.c If a sequence has a larger number of mutations when compared to the reference sequence, does that mean it is from earlier or later in the outbreak? Explain your answer. "
   ]
  },
  {
   "cell_type": "markdown",
   "metadata": {},
   "source": [
    "On average, it means it is from later in the outbreak, as mutations happen randomly over time and therefore the amount of mutations tends to trend up."
   ]
  },
  {
   "cell_type": "markdown",
   "metadata": {},
   "source": [
    "#### 1.d Create a visual that highlights the relationship between your groups. Examples of effective visuals include flowcharts and trees. Be sure that your visual includes an arrow indicating passage of time during the outbreak. \n"
   ]
  },
  {
   "cell_type": "markdown",
   "metadata": {},
   "source": [
    "<div>\n",
    "<img src=\"ebola_sequences_done.png\"/>\n",
    "</div>"
   ]
  },
  {
   "cell_type": "markdown",
   "metadata": {},
   "source": [
    "### 2. Testing the clustering algorithm\n",
    "\n",
    "Let's apply our clustering algorithm to a set of sequences from the 2014-2016 epidemics. We started from the genome data available on [this website](https://github.com/ebov/space-time) listing 1610 sequences during the pandemics. We selected a subset of sequences and recorded only positions that are changing. We also prepared the data as a numpy array. \n",
    "\n",
    "#### 2.a Run the mixture model for different values of $k$ \n",
    "\n",
    "#### 2.b Determine the most suited value for $k$. What about the resulting groups, are they very diverse?"
   ]
  },
  {
   "cell_type": "code",
   "execution_count": null,
   "metadata": {},
   "outputs": [
    {
     "name": "stdout",
     "output_type": "stream",
     "text": [
      "k = 10: "
     ]
    },
    {
     "name": "stderr",
     "output_type": "stream",
     "text": [
      "C:\\Users\\Fritz\\AppData\\Local\\Temp\\ipykernel_24908\\2943558313.py:11: RuntimeWarning: divide by zero encountered in log\n",
      "  return np.sum(np.where(innersum == 0, 0, np.log(innersum)))\n"
     ]
    },
    {
     "name": "stdout",
     "output_type": "stream",
     "text": [
      "[-13188.44548338 -12384.63124044 -12430.65218655 -12236.10663457\n",
      " -11165.12647062 -12589.96875956 -14946.7350012  -11855.85065359\n",
      " -13340.50872135 -12364.88167174]\n",
      "k = 11: [-11824.51080844 -13630.14212021 -11623.21337528 -11792.1211675\n",
      " -11874.0946218  -12059.97489617 -12152.81246907 -12102.39137268\n",
      " -11143.55272871 -11023.29968393]\n",
      "k = 12: [-11715.14416803 -13465.32904631 -11822.32657742 -10805.18507761\n",
      " -11240.82742509 -11568.41341958 -11524.90807584 -11764.40808752\n",
      " -11028.73365899 -10963.39007949]\n",
      "k = 13: [-10080.03438675 -12227.67646305 -10429.57533632 -10960.82996775\n",
      " -10502.96840546 -11409.03443412 -11339.06178238 -11097.61468306\n",
      " -11892.52067651 -10914.98527475]\n",
      "k = 14: [-10464.98038367 -10232.37456404 -11143.27276773  -9847.21273535\n",
      " -10092.20818886 -11181.8387387  -10790.40086969 -10130.29331657\n",
      " -10379.78434988 -11277.14865791]\n",
      "k = 15: [-11099.93513482 -11055.19118703 -10985.48391153  -9616.0331166\n",
      " -10679.84328878  -9921.27575873 -10668.55538136  -9571.67382244\n",
      " -10144.420881   -12418.31352131]\n",
      "k = 16: [-10452.10508813 -10757.96828063 -11780.09106061  -9949.77900998\n",
      " -10144.94730419 -10065.24836832 -10031.41678902 -11441.79237173\n",
      "  -9335.60646528 -10434.30655052]\n",
      "k = 17: [ -9295.72944413 -10915.01328573  -9300.70069374 -10964.13967418\n",
      " -10515.73624611  -9252.38735286 -10907.29090824 -10572.64102611\n",
      " -12388.41486066 -10558.92069699]\n",
      "k = 18: [ -9801.59934604  -9395.54014179  -9584.18231344 -10290.31026503\n",
      "  -9888.62779786  -8832.59954107  -9885.00932474  -9339.27203553\n",
      "  -9836.1553608   -9726.92424711]\n",
      "k = 19: [ -9995.70821845 -10943.45671639  -8136.32429178  -9067.21268597\n",
      "  -9086.50340766  -9528.74883486  -9396.11280551  -8519.60552607\n",
      "  -9804.37376063  -9306.47595968]\n",
      "k = 20: [ -8978.03421382 -10308.93988565 -10247.47233352  -9056.96471235\n",
      "  -9342.55638037 -10053.29620502 -10160.32760618  -9296.97488433\n",
      " -10214.55896044 -10668.28366322]\n"
     ]
    },
    {
     "data": {
      "image/png": "[encoded data removed]",
      "text/plain": [
       "<Figure size 640x480 with 1 Axes>"
      ]
     },
     "metadata": {},
     "output_type": "display_data"
    },
    {
     "name": "stdout",
     "output_type": "stream",
     "text": [
      "Best k: 19 with loglikelihood of -9378.452220699572\n"
     ]
    }
   ],
   "source": [
    "# Loading data\n",
    "import pickle as pkl\n",
    "sequences = pkl.load(open('Ebola_data/ebola.pkl', 'rb'))\n",
    "\n",
    "# Running EM with different values for k\n",
    "kstep = 1\n",
    "kmin, kmax = 10, 20\n",
    "assert (kmax-kmin) % kstep == 0\n",
    "instances = 10\n",
    "\n",
    "best_k = 0\n",
    "best_loglikelihood = float(\"-inf\")\n",
    "\n",
    "loglikelihoods = np.tile(0.0, (int((kmax-kmin)/kstep)+1, instances))\n",
    "for k in range(kmin, kmax+1, kstep):\n",
    "    print(f\"k = {k}: \", end=\"\")\n",
    "    for i in range(0, instances):\n",
    "        c_k, mu_k, pi_k, loglikes_k = EM(sequences, k)\n",
    "        loglikelihoods[int((k-kmin)/kstep)][i] = loglikes_k[-1]\n",
    "    print(loglikelihoods[int((k-kmin)/kstep)])\n",
    "    if loglikelihoods[int((k-kmin)/kstep)].mean() > best_loglikelihood:\n",
    "        best_loglikelihood = loglikelihoods[int((k-kmin)/kstep)].mean()\n",
    "        best_k = k\n",
    "\n",
    "plt.plot(range(kmin, kmax+1, kstep), loglikelihoods.mean(1))\n",
    "plt.show()\n",
    "\n",
    "# considering the graph, there is an elbow at around k = 14\n",
    "# this then seems to be a reasonable amount of clusters\n",
    "# not sure how to measure diversity but given the dataset\n",
    "# we expect an average of ~10 unique samples per cluster\n",
    "# which is diverse enough"
   ]
  },
  {
   "cell_type": "code",
   "execution_count": 31,
   "metadata": {},
   "outputs": [
    {
     "name": "stdout",
     "output_type": "stream",
     "text": [
      "k = 5: "
     ]
    },
    {
     "name": "stderr",
     "output_type": "stream",
     "text": [
      "C:\\Users\\Fritz\\AppData\\Local\\Temp\\ipykernel_24908\\2943558313.py:11: RuntimeWarning: divide by zero encountered in log\n",
      "  return np.sum(np.where(innersum == 0, 0, np.log(innersum)))\n"
     ]
    },
    {
     "name": "stdout",
     "output_type": "stream",
     "text": [
      "[-15169.76876116 -15185.00173875 -15058.63860788]\n",
      "k = 15: [ -9965.26494371 -11059.62865599 -10083.29104142]\n",
      "k = 25: [-8681.81368359 -8109.47490106 -9521.87275766]\n",
      "k = 35: [-7941.59339575 -7348.4255258  -6905.32347485]\n",
      "k = 45: [-6093.88678623 -5248.79880513 -6033.97916678]\n",
      "k = 55: [-4689.55070535 -3476.2653938  -3964.42687191]\n",
      "k = 65: [-3877.41512762 -3601.82737363 -4071.84597244]\n",
      "k = 75: [-3204.82871265 -3091.28846062 -3117.97313134]\n",
      "k = 85: [-3280.35716126 -2830.76635628 -2680.86434058]\n",
      "k = 95: [-2398.95304282 -2842.07597453 -2543.43049217]\n",
      "k = 105: [-2356.49728937 -2296.22204651 -2319.02581399]\n",
      "k = 115: [-2540.81235672 -2351.6875278  -2293.55727348]\n",
      "k = 125: [-2235.0772621  -2158.21534238 -2141.92489621]\n",
      "k = 135: [-2094.49114938 -2098.01865752 -2093.06071382]\n",
      "k = 145: [-2037.86827441 -2037.86827441 -2037.86827441]\n"
     ]
    },
    {
     "data": {
      "image/png": "[encoded data removed]",
      "text/plain": [
       "<Figure size 640x480 with 1 Axes>"
      ]
     },
     "metadata": {},
     "output_type": "display_data"
    },
    {
     "name": "stdout",
     "output_type": "stream",
     "text": [
      "Best k: 145 with loglikelihood of -2037.8682744082344\n"
     ]
    }
   ],
   "source": [
    "# i thought this was interesting, this is from before switching to the elbow estimation above\n",
    "kstep = 10\n",
    "kmin, kmax = 5, 145\n",
    "assert (kmax-kmin) % kstep == 0\n",
    "instances = 3\n",
    "\n",
    "best_k = 0\n",
    "best_loglikelihood = float(\"-inf\")\n",
    "\n",
    "loglikelihoods = np.tile(0.0, (int((kmax-kmin)/kstep)+1, instances))\n",
    "for k in range(kmin, kmax+1, kstep):\n",
    "    print(f\"k = {k}: \", end=\"\")\n",
    "    for i in range(0, instances):\n",
    "        c_k, mu_k, pi_k, loglikes_k = EM(sequences, k)\n",
    "        loglikelihoods[int((k-kmin)/kstep)][i] = loglikes_k[-1]\n",
    "    print(loglikelihoods[int((k-kmin)/kstep)])\n",
    "    if loglikelihoods[int((k-kmin)/kstep)].mean() > best_loglikelihood:\n",
    "        best_loglikelihood = loglikelihoods[int((k-kmin)/kstep)].mean()\n",
    "        best_k = k\n",
    "\n",
    "plt.plot(range(kmin, kmax+1, kstep), loglikelihoods.mean(1))\n",
    "plt.show()\n",
    "\n",
    "# Determine the most suited value for k\n",
    "print(f\"Best k: {best_k} with loglikelihood of {best_loglikelihood}\")\n",
    "# this always seems to be the highest number \n",
    "# k=145 is max because there are exactly 145 unique sequences...\n",
    "# am I missing some sort of term punishing k?\n",
    "# anyways, the groups are not particularly diverse\n",
    "# because each group is just copies of the representation"
   ]
  },
  {
   "cell_type": "markdown",
   "metadata": {},
   "source": [
    "#### 2.c Do you see limitations in applying the clustering algorithm to an outbreak? What are the advantages? What would be an alternative method?"
   ]
  },
  {
   "cell_type": "markdown",
   "metadata": {},
   "source": [
    "It seems that the number of clusters has to be known a-priori somehow? I'm not sure.    \n",
    "Certainly it is difficult to tell what exact k is appropriate.    \n",
    "Since mutations happen over time some sort of markov model may be better able to model sequences...    "
   ]
  }
 ],
 "metadata": {
  "kernelspec": {
   "display_name": "f2c",
   "language": "python",
   "name": "python3"
  },
  "language_info": {
   "codemirror_mode": {
    "name": "ipython",
    "version": 3
   },
   "file_extension": ".py",
   "mimetype": "text/x-python",
   "name": "python",
   "nbconvert_exporter": "python",
   "pygments_lexer": "ipython3",
   "version": "3.10.14"
  }
 },
 "nbformat": 4,
 "nbformat_minor": 2
}
