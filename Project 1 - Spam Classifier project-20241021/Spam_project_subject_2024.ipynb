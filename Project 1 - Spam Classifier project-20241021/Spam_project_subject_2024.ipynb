{
 "cells": [
  {
   "attachments": {},
   "cell_type": "markdown",
   "metadata": {},
   "source": [
    "# Spam or Ham (project 1)\n",
    "\n",
    "## 1- Introduction with the Bernoulli model\n",
    "\n",
    "\n",
    "We say that a random variables $X \\in \\{0, 1\\}$ follows a Bernoulli distribution of parameter $\\theta$ if $\\mathbb{P}(X = 1) = \\theta$ and $\\mathbb{P}(X = 0) = 1 − \\theta$.\n",
    "\n",
    "\n",
    "1.  Show that we can write the probability distribution of $X$ in a compact form as : \n",
    "$$\n",
    "\\mathbb{P}(X = x) = \\theta^{x} (1 − \\theta)^{1−x}\n",
    "$$\n",
    "\n",
    "2. Suppose now that we have a set of n independent variables $x_1,...,x_n$. If we note $n_1 = \\sum_{i=1}^n \\mathbb{1}_{\\{x_i=1\\}}$ and $n_0 = n − n_1$, show that :\n",
    "$$\n",
    "\\mathbb{P}(x_1,\\ldots,x_n \\mid \\theta)=\\theta^{n_1} (1−\\theta)^{n_0}\n",
    "$$\n",
    "\n",
    "3. Show that the maximum likelihood estimator is $\\hat{\\theta}_{ML} = \\frac{n_1}{n}$\n",
    "\n",
    "4. A conjugate prior for the Bernoulli distribution is the Beta distribution. \n",
    "$$\n",
    "Beta(\\theta \\mid a, b) \\propto \\theta^{a−1} (1 − \\theta)^{b−1}\n",
    "$$\n",
    "The Beta distribution has the following properties for its expectation and mode (for more details you can look in one of the books like the Bishop):\n",
    "$$\n",
    "\\mathbb{E}(\\theta) = \\frac{a}{a+b} \\text{, mode}(\\theta) = \\frac{a-1}{a+b-2}\n",
    "$$\n",
    "\n",
    "Show that with a $Beta(a,b)$ prior the posterior distribution \n",
    "$\\mathbb{P}(\\theta \\mid x_1,\\ldots, x_n)$\n",
    "is proportional to $\\theta^{n_1+a-1} \\cdot (1 − \\theta)^{n_0+b-1}$ \n",
    "\n",
    "5. (Those two questions are optional, you can also simply use the result in the following)\n",
    "\n",
    "  a. Show that the maximum a posteriori _mode_ estimate is in the form $\\bar{\\theta}_{MAP} = \\frac{n_1+a-1}{n+a+b-2}$\n",
    "\n",
    "  b. Show that the maximum a posteriori \n",
    "_mean_ estimate is in the form $\\hat{\\theta}_{MAP} = \\mathbb{E}(\\theta \\mid x_1,\\ldots, x_n) = \n",
    "\\int_{\\theta =0}^1 \\mathbb{P}(\\theta \\mid x_1\\ldots x_n) d\\theta  = \\frac{n_1+a}{n+a+b}$\n"
   ]
  },
  {
   "cell_type": "markdown",
   "metadata": {},
   "source": [
    "## _write your answers to the questions here (you can also provide a scanned pdf of your answers with the notebook)_\n",
    "1) Given a random variable $X \\in \\{0, 1\\}$, and $x \\in \\{0,1\\}$, consider that for $x = 1$: $\\theta^{x} (1 − \\theta)^{1−x} = \\theta^1 - (1 - \\theta)^{0} = \\theta = \\mathbb{P}(X = 1)$ and that for $x = 0$: $\\theta^{x} (1 − \\theta)^{1−x} = \\theta^0 - (1 - \\theta)^{1} = 1 - \\theta = \\mathbb{P}(X = 0)$. Therefore, $\\mathbb{P}(X = x) = \\theta^{x} (1 − \\theta)^{1−x}$.\n",
    "2) For $n=1$, i.e. a set of independent variables $x_1$ we know (according to Point 1) that $\\mathbb{P}(x_1 \\mid \\theta)=\\theta^{x_1} (1−\\theta)^{1-x_1}$, and $n_1 = x_1$ as well as $n_0 = 1 - x_1$, and therefore $\\mathbb{P}(x_1 \\mid \\theta)=\\theta^{n_1} (1−\\theta)^{n_0}$. \n",
    "   For $n \\in \\mathbb{N}$, i.e. a set of such independent variables $x_1, \\dots, x_n$, where holds $\\mathbb{P}(x_1, \\dots, x_n \\mid \\theta)=\\theta^{n_1} (1−\\theta)^{n_0}$ a further independent variable $x_{n+1}$ may be added, such that $\\mathbb{P}(x_1, \\dots, x_n, x_{n+1} \\mid \\theta) = \\mathbb{P}(x_1, \\dots, x_n\\mid \\theta) \\cdot \\mathbb{P}(x_{n+1} \\mid \\theta)$, as they are independent, and therefore $\\mathbb{P}(x_1, \\dots, x_n, x_{n+1} \\mid \\theta) = \\theta^{n_1} (1−\\theta)^{n_0} \\cdot \\theta^{x_{n+1}}(1-\\theta)^{1-x_{n+1}} = \\theta^{n'_1} (1−\\theta)^{n'_0}$ with $n'_1 = \\sum_{i=1}^{n} \\mathbb{1}_{\\{x_i=1\\}} + x_{n+1} = \\sum_{i=1}^{n+1} \\mathbb{1}_{\\{x_i=1\\}}$ and $n'_0 = n+1 - n'_1$. \n",
    "   As any set of independent variables may be constructed by starting from its first variable and adding the rest individually, $\\mathbb{P}(x_1,\\ldots,x_n \\mid \\theta)=\\theta^{n_1} (1−\\theta)^{n_0}$ holds for any such set.\n",
    "3) First, consider the Log Probability of $x_1, \\dots, x_n$ given $\\theta$: $\\mathbb{L}(x_1,\\ldots,x_n \\mid \\theta) = \\log \\mathbb{P}(x_1,\\ldots,x_n \\mid \\theta) = n_1 \\log\\theta + n_0 \\log (1−\\theta)$. Furthermore, the derivation by $\\theta$ of the log probability is obtained as such: $\\frac{d}{d\\theta} \\mathbb{L}(x_1,\\ldots,x_n \\mid \\theta) = \\frac{d}{d\\theta}n_1 \\log\\theta + n_0 \\log (1−\\theta) = \\frac{n_1}{\\theta} - \\frac{n_0}{1-\\theta}$. We find where this derivative equals 0 as follows: $\\frac{n_1}{\\theta} - \\frac{n_0}{1-\\theta} = 0 \\leftrightarrow \\frac{n_1}{\\theta} = \\frac{n_0}{1-\\theta} \\leftrightarrow \\frac{n_0}{n_1} = \\frac{1 - \\theta}{\\theta} \\leftrightarrow \\frac{n_0}{n_1} = \\frac{1}{\\theta} - 1 \\leftrightarrow \\frac{n_0 + n_1}{n_1} = \\frac{1}{\\theta}$ and with $n_0 = n - n_1$ therefore $\\frac{n}{n_1} = \\frac{1}{\\theta}$, i.e. $\\frac{n_1}{n} = \\theta$. Therefore, the probability of the set of variables has an extrema at $\\theta = \\frac{n_1}{n}$. Given the second derivative of the log probability $\\frac{d}{d\\theta}\\frac{d}{d\\theta} \\mathbb{L}(x_1,\\ldots,x_n \\mid \\theta) = -\\frac{n_1}{\\theta^2}-\\frac{n_0}{(1-\\theta)^2} < 0$, this extrema is a maxima. Therefore, the MLE is $\\hat{\\theta}_{ML} = \\frac{n_1}{n}$.\n",
    "4) According to bayes rule, the posterior is equal to the prior times the likelihood over the marginal probability. Therefore, the posterior is proportional to the prior times likelihood. With a prior $Beta(\\theta \\mid a, b) \\propto \\theta^{a−1} (1 − \\theta)^{b−1}$ and a likelihood $\\mathbb{P}(x_1,\\ldots,x_n \\mid \\theta)=\\theta^{n_1} (1−\\theta)^{n_0}$ we hence know that  $\\mathbb{P}(\\theta \\mid x_1,\\ldots, x_n) \\propto Beta(\\theta \\mid a, b) \\cdot \\mathbb{P}(x_1,\\ldots,x_n \\mid \\theta) \\propto \\theta^{a−1} (1 − \\theta)^{b−1} \\cdot \\theta^{n_1} (1−\\theta)^{n_0} = \\theta^{n_1+a-1} \\cdot (1 − \\theta)^{n_0+b-1}.$ $\\blacksquare$"
   ]
  },
  {
   "cell_type": "markdown",
   "metadata": {},
   "source": [
    "## Spam classifier\n",
    "\n",
    "The goal of this small project is to use a Naive bayes classifier to build a spam filter. To build our filter, we will use a dataset of 5,572 SMS messages put together by Tiago A. Almeida and José María Gómez Hidalgo. \n",
    "The dataset and the article describing the dataset are in the whiteboard directory together with this notebook. Of note, the SMS messages have already been processed for ease of use: all punctuation marks have been removed and the text has been transformed into lowercase. It is also common practice to remove any stop words such as `a`, `as`, `the` and to perform stemming (reduce words to their base form, such as stripping  the final `s*` in plural words, or the `*ing` from verbs (e.g., running becomes run)). For the sake of simplicity, we did not do that in this exercise.\n",
    "\n",
    "We will use a bag of word model:\n",
    " - We construct a corpus of the possible words $\\mathcal{D} = \\{w_1, \\ldots , w_d\\}$.\n",
    " - Each document is described by a vector of binary values $(x^{(1)}, \\ldots , x^{(d)})$ where $x^{(i)} = 1$ if $w_i$ occurs in the document and $0$ otherwise.\n",
    "\n",
    "The classification task is to predict for an SMS message if it is a _spam_ or a _ham_ (e.g. non-spam).\n",
    "\n",
    "Our data is thus $\\mathbf{x} = (x^{(1)},\\ldots, x^{(d)})$, $x^{(i)} \\in \\{0,1\\}$ and $y \\in \\{s,h\\}$\n",
    "We hypothesise that the values $x^{(i)}$ are drawn according to a Bernoulli distribution whose parameter depends on the class:\n",
    "$$\n",
    "\\mathbb{P}(x^{(i)} \\mid y = s) = \\theta_{i,s}^{x^{(i)}} \\cdot (1-\\theta_{i,s})^{1-x^{(i)}}\n",
    "$$\n",
    "and \n",
    "$$\n",
    "\\mathbb{P}(x^{(i)} \\mid y = h) = \\theta_{i,h}^{x^{(i)}} \\cdot (1-\\theta_{i,h})^{1-x^{(i)}}\n",
    "$$\n",
    "As we will use a naive Bayes classifier, the occurences of the different words are independent from each other.\n",
    "\\begin{align}\n",
    "\\mathbb{P}(\\mathbf{x} \\mid y = s) & = \\prod_{i=1}^{d} \\mathbb{P} (x^{(i)} \\mid y = s)\\\\\n",
    "  & =  \\prod_{i=1}^{d} \\theta_{i,s}^{x^{(i)}} \\cdot (1-\\theta_{i,s})^{1-x^{(i)}}\n",
    "\\end{align}\n"
   ]
  },
  {
   "cell_type": "markdown",
   "metadata": {},
   "source": [
    "## Importing library and loading dataset"
   ]
  },
  {
   "cell_type": "code",
   "execution_count": 92,
   "metadata": {},
   "outputs": [],
   "source": [
    "%matplotlib inline\n",
    "import numpy as np\n",
    "from collections import Counter\n",
    "\n",
    "##Load the dataset (if in the same directory as the notebook)\n",
    "sms_data = np.loadtxt(\"./SMSSpamCollection_cleaned.csv\", delimiter=\"\\t\", skiprows=1, dtype=str)\n",
    "\n",
    "## create test data set for checkpointing\n",
    "checkpoint_data = np.array([['spam', 'dear researcher submit manuscript money'], \n",
    "          ['ham','dear friend meet beer'],\n",
    "          ['ham', 'dear friend meet you']], dtype=str)"
   ]
  },
  {
   "cell_type": "code",
   "execution_count": 93,
   "metadata": {},
   "outputs": [
    {
     "data": {
      "text/plain": [
       "array([['spam', 'dear researcher submit manuscript money'],\n",
       "       ['ham', 'dear friend meet beer'],\n",
       "       ['ham', 'dear friend meet you']], dtype='<U39')"
      ]
     },
     "execution_count": 93,
     "metadata": {},
     "output_type": "execute_result"
    }
   ],
   "source": [
    "##Check the dataset\n",
    "checkpoint_data"
   ]
  },
  {
   "cell_type": "code",
   "execution_count": 94,
   "metadata": {},
   "outputs": [
    {
     "name": "stdout",
     "output_type": "stream",
     "text": [
      "5572\n",
      "Third message is a: spam\n",
      "['free', 'entry', 'in', '2', 'a', 'wkly', 'comp', 'to', 'win', 'fa', 'cup', 'final', 'tkts', '21st', 'may', '2005', 'text', 'fa', 'to', '87121', 'to', 'receive', 'entry', 'question', 'std', 'txt', 'rate', 't', 'c', 's', 'apply', '08452810075over18', 's']\n"
     ]
    }
   ],
   "source": [
    "##Check the size of the dataset\n",
    "num_messages = sms_data.shape[0]\n",
    "print(num_messages)\n",
    "\n",
    "##third message is a...\n",
    "print(\"Third message is a:\", sms_data[2][0])\n",
    "##dividing the third message into words\n",
    "print(sms_data[2][1].split())"
   ]
  },
  {
   "cell_type": "markdown",
   "metadata": {},
   "source": [
    "## 2 - Construction of the Corpus\n",
    "\n",
    "Construct the corpus $\\mathcal{D}$ of all words in the dataset. The corpus will be represented as a hash table where each key is a unique word in the dataset and each value is the row index for that word. \n",
    " - How many unique words are there? \n",
    " - What are the 10 most common words (_e.g._ occuring in the most documents)?\n",
    " - Transform the set of messages in the form of a binary matrix of word occurrences.\n",
    " \n",
    " You can evaluate whether your implementation works using the checkpoint_data array. For this dataset the corpus could look as follows :\n",
    "\n",
    "`{'dear': 0, 'researcher': 1, 'submit': 2, 'manuscript': 3, 'money': 4, 'friend': 5, 'meet': 6, 'beer': 7, 'you': 8}`\n",
    "(of course you could have other index values for the words). \n",
    "\n",
    "The recoding of the checkpoint data will give you the following numpy array:\n",
    "\n",
    "```\n",
    "[[1. 1. 1. 1. 1. 0. 0. 0. 0.]\n",
    " [1. 0. 0. 0. 0. 1. 1. 1. 0.]\n",
    " [1. 0. 0. 0. 0. 1. 1. 0. 1.]]\n",
    "```"
   ]
  },
  {
   "cell_type": "code",
   "execution_count": 95,
   "metadata": {},
   "outputs": [],
   "source": [
    "def construct_corpus(data):\n",
    "    \"\"\"\n",
    "    np.array[str, str] -> dict[str:int]\n",
    "    \n",
    "    from a 2D array of str, return a hash table\n",
    "    \"\"\"\n",
    "    ##Your code here\n",
    "    counter = 0\n",
    "    corpus: dict[str, int] = {}\n",
    "    for msg in data:\n",
    "        for word in msg[1].split():\n",
    "            if word not in corpus:\n",
    "                corpus[word] = counter\n",
    "                counter += 1\n",
    "    return corpus\n",
    "\n"
   ]
  },
  {
   "cell_type": "code",
   "execution_count": 96,
   "metadata": {},
   "outputs": [],
   "source": [
    "def recode_messages(data, corpus):\n",
    "    \"\"\"\n",
    "    np.array[str, str] * dict[str:int] -> np.array[int, int]\n",
    "    \n",
    "    returns the binary matrix encoding \n",
    "    \"\"\"\n",
    "    ##Your code here\n",
    "    uniques = len(corpus)\n",
    "    recoded = np.tile(0.0, (len(data), uniques))\n",
    "    for i, msg in enumerate(data):\n",
    "        for word in msg[1].split():\n",
    "            recoded[i][corpus[word]] = 1\n",
    "    return np.array(recoded)\n",
    "\n",
    "\n",
    "D = construct_corpus(sms_data)\n",
    "\n",
    "sms_matrix = recode_messages(sms_data, D)"
   ]
  },
  {
   "cell_type": "code",
   "execution_count": 97,
   "metadata": {},
   "outputs": [
    {
     "name": "stdout",
     "output_type": "stream",
     "text": [
      "{'dear': 0, 'researcher': 1, 'submit': 2, 'manuscript': 3, 'money': 4, 'friend': 5, 'meet': 6, 'beer': 7, 'you': 8}\n",
      "[[1. 1. 1. 1. 1. 0. 0. 0. 0.]\n",
      " [1. 0. 0. 0. 0. 1. 1. 1. 0.]\n",
      " [1. 0. 0. 0. 0. 1. 1. 0. 1.]]\n",
      "8753\n",
      "['i', 'to', 'you', 'a', 'the', 'u', 'in', 'and', 'is', 'me']\n",
      "[[1. 1. 1. ... 0. 0. 0.]\n",
      " [0. 0. 0. ... 0. 0. 0.]\n",
      " [0. 0. 0. ... 0. 0. 0.]\n",
      " ...\n",
      " [0. 0. 0. ... 1. 1. 0.]\n",
      " [0. 0. 0. ... 0. 0. 1.]\n",
      " [0. 0. 0. ... 0. 0. 0.]]\n"
     ]
    }
   ],
   "source": [
    "import functools, operator\n",
    "##test\n",
    "corpus = construct_corpus(checkpoint_data)\n",
    "print(corpus)\n",
    "print(recode_messages(checkpoint_data, corpus))\n",
    "\n",
    "#number of uniques:\n",
    "print(len(D))\n",
    "#top 10 most common:\n",
    "sms_commonalities = functools.reduce(operator.add, sms_matrix)\n",
    "c = [(v, i) for i, v in enumerate(sms_commonalities)]\n",
    "c.sort(reverse=True)\n",
    "c = c[:10]\n",
    "D_inv = {v: k for k,v in D.items()}\n",
    "c = [D_inv[i] for (v, i) in c]\n",
    "print(c)\n",
    "#recode:\n",
    "print(sms_matrix)"
   ]
  },
  {
   "cell_type": "markdown",
   "metadata": {},
   "source": [
    "## 3 - Construct a training and a testing set and estimation of parameters\n",
    "\n",
    "\n",
    "To do the evaluation of the model afterward we will split the dataset randomly in two: \n",
    "- one dataset for training (80% of the messages) \n",
    "- one dataset for testing (20% of the messages).\n",
    "\n",
    "If you are familiar with it, you can use the `sklearn.model_selection` functions to construct the train and test datasets.\n"
   ]
  },
  {
   "cell_type": "code",
   "execution_count": 98,
   "metadata": {},
   "outputs": [],
   "source": [
    "import sklearn.model_selection as ms\n",
    "def train_test_split(X, Y, train_percentage=0.8):\n",
    "    \"\"\"\n",
    "    both X and Y must be np objects (i.e. have a shape)\n",
    "    returns np arrays X_train, X_test, y_train, y_test \n",
    "    \"\"\"\n",
    "    assert X.shape[0] == Y.shape[0]\n",
    "\n",
    "    number_examples = X.shape[0]\n",
    "    num_train = int(train_percentage * number_examples)\n",
    "    ##Your code here\n",
    "    return ms.train_test_split(X, Y, train_size=train_percentage)\n",
    "x_train, x_test, y_train, y_test = train_test_split(np.array([i[1] for i in sms_data]), np.array([i[0] for i in sms_data]))\n",
    "train_data = np.array(list(zip(y_train, x_train)))\n",
    "test_data = np.array(list(zip(y_test, x_test)))"
   ]
  },
  {
   "attachments": {},
   "cell_type": "markdown",
   "metadata": {},
   "source": [
    "## 4 - Estimation of the model parameters\n",
    "\n",
    "We will now estimate our model on the training set. This means estimating two types of parameters: the class prior, and the conditional word occurrence probabilities.\n",
    "\n",
    "1.  Estimate the class prior $\\mathbb{P}(c) = \\mathbb{P}(y = c), (c = s, h)$\n",
    "2.  Using the results from section 1, compute the Maximum a posteriori estimator for the $d \\times 2$ matrix of parameters.\n",
    "$$\n",
    "\\Theta = \\left(\n",
    "\\begin{array}{cc}\n",
    "\\theta_{1,h}   & \\theta_{1,s} \\\\\n",
    "\\theta_{2,h} & \\theta_{2,s} \\\\\n",
    "\\vdots & \\vdots \\\\\n",
    "\\theta_{d,h} & \\theta_{d,s} \\\\\n",
    "\\end{array}\n",
    "\\right).\n",
    "$$ You can use as conjugate prior a Beta(1, 1) distribution for instance (then $\\theta_{i,c} = \\frac{n_{i,c}+1}{N+2}$ where $n_{i,c}$ is the number of documents from the class $c$ where the word $w_i$ is present and $N$ is the total number of documents).\n",
    "\n",
    "When applied to the checkpoint data, your $\\Theta$ matrix should look like this:\n",
    "\n",
    "```\n",
    "# h    s\n",
    "[[0.75 0.66666667]  #'dear'\n",
    " [0.25 0.66666667]  #'researcher'\n",
    " [0.25 0.66666667]  #'submit'\n",
    " [0.25 0.66666667]  #'manuscript'\n",
    " [0.25 0.66666667]  #'money'\n",
    " [0.75 0.33333333]  #'friend'\n",
    " [0.75 0.33333333]  #'meet'\n",
    " [0.5  0.33333333]  #'beer'\n",
    " [0.5  0.33333333]] #'you'\n",
    "```\n",
    "\n",
    "3. Represent the fitted class conditional densities $(\\theta_{i,h})_{i \\in \\mathcal{D}}$ and $(\\theta_{i,s})_{i \\in \\mathcal{D}}$ like on the corresponding slide of the course.\n"
   ]
  },
  {
   "cell_type": "code",
   "execution_count": 99,
   "metadata": {},
   "outputs": [
    {
     "name": "stdout",
     "output_type": "stream",
     "text": [
      "[[0.75       0.66666667]\n",
      " [0.25       0.66666667]\n",
      " [0.25       0.66666667]\n",
      " [0.25       0.66666667]\n",
      " [0.25       0.66666667]\n",
      " [0.75       0.33333333]\n",
      " [0.75       0.33333333]\n",
      " [0.5        0.33333333]\n",
      " [0.5        0.33333333]]\n"
     ]
    }
   ],
   "source": [
    "import seaborn as sns\n",
    "import matplotlib.pyplot as plt\n",
    "\n",
    "## Your code here for class priors\n",
    "prob_spam = sum(map(lambda x: x[0] == \"spam\", train_data)) / len(train_data)\n",
    "prob_ham = 1 - prob_spam\n",
    "\n",
    "def estimate_proportions(data_matrix, data_corpus): # we must allow for an external corpus in case data_matrix is a train split\n",
    "    \"\"\"\n",
    "    estimate the matrix theta\n",
    "    \"\"\"\n",
    "    #your code here\n",
    "    data_recode = recode_messages(data_matrix, data_corpus)\n",
    "    \n",
    "    num_total = len(data_matrix)\n",
    "    num_spam = sum(map(lambda x: x[0] == \"spam\", data_matrix))\n",
    "    num_ham = num_total - num_spam\n",
    "\n",
    "    matrix = np.tile(0.0, (len(data_corpus), 2))\n",
    "    occurrences = {\"spam\": np.tile(0.0, len(data_corpus)), \n",
    "                   \"ham\": np.tile(0.0, len(data_corpus))}\n",
    "    for (c, msg), r in zip(data_matrix, data_recode): \n",
    "        occurrences[c] += r\n",
    "    for i, arr in enumerate(matrix):\n",
    "        arr[0] = (occurrences[\"ham\"][i] + 1) / (num_ham + 2)\n",
    "        arr[1] = (occurrences[\"spam\"][i] + 1) / (num_spam + 2)\n",
    "    return matrix\n",
    "\n",
    "print(estimate_proportions(checkpoint_data, construct_corpus(checkpoint_data)))"
   ]
  },
  {
   "cell_type": "code",
   "execution_count": 100,
   "metadata": {},
   "outputs": [],
   "source": [
    "sms_proportions = estimate_proportions(sms_data, construct_corpus(sms_data))\n",
    "sh_props = [[prop[0] for prop in sms_proportions], [prop[1] for prop in sms_proportions]]\n",
    "for i in range(0, len(sh_props)):\n",
    "    m = max(sh_props[i])\n",
    "    sh_props[i] = [p / m for p in sh_props[i]]"
   ]
  },
  {
   "cell_type": "code",
   "execution_count": 101,
   "metadata": {},
   "outputs": [
    {
     "data": {
      "image/png": "[encoded data removed]",
      "text/plain": [
       "<Figure size 640x480 with 1 Axes>"
      ]
     },
     "metadata": {},
     "output_type": "display_data"
    },
    {
     "data": {
      "image/png": "[encoded data removed]",
      "text/plain": [
       "<Figure size 640x480 with 1 Axes>"
      ]
     },
     "metadata": {},
     "output_type": "display_data"
    }
   ],
   "source": [
    "for prop in sh_props:\n",
    "    ax = sns.barplot(prop[:200]) # only first 200 for speed\n",
    "    ax.set_ylim(bottom = 0.0, top = 1.0)\n",
    "    plt.show()"
   ]
  },
  {
   "cell_type": "markdown",
   "metadata": {},
   "source": [
    "## 4 - Message classification\n",
    "\n",
    "\n",
    "3. Classify the messages in the test set using the Maximum a posteriori rule, and evaluate the performance of the model by computing the True Positive Rate (also called Sensitivity) and the False Positive Rate (the same as 1-Specificity).\n",
    "\n",
    "4. The performance of the model above was obtained by using a classification threshold of $0.5$ on the posterior probability. In other words, if $\\mathbb{P}(y = s \\mid \\mathbb{x}) \\ge 0.5$ then the message is classified as spam. Draw a ROC curve for your classifier. Note that you have to consider multiple values of the threshold to draw the ROC curve. \n",
    "\n",
    "5. Why did we use the Maximum a posteriori estimator rather than the maximum likelihood one?\n",
    "\n",
    "\n"
   ]
  },
  {
   "cell_type": "code",
   "execution_count": 102,
   "metadata": {},
   "outputs": [
    {
     "name": "stdout",
     "output_type": "stream",
     "text": [
      "[[0.04782948 0.04234528]\n",
      " [0.00519886 0.00977199]\n",
      " [0.00051989 0.00162866]\n",
      " ...\n",
      " [0.00025994 0.00162866]\n",
      " [0.00025994 0.00162866]\n",
      " [0.00051989 0.00162866]]\n"
     ]
    }
   ],
   "source": [
    "sms_corpus = construct_corpus(sms_data)\n",
    "props = estimate_proportions(train_data, sms_corpus)\n",
    "print(props)"
   ]
  },
  {
   "cell_type": "code",
   "execution_count": 103,
   "metadata": {},
   "outputs": [
    {
     "name": "stdout",
     "output_type": "stream",
     "text": [
      "6.668449327608919e-08 0.9999999333155067 ham ham\n",
      "2.906626749783785e-17 1.0 ham ham\n",
      "0.9790158650068983 0.02098413499310166 spam spam\n",
      "1.0 9.291264840278617e-27 spam spam\n",
      "1.1580029737535612e-10 0.9999999998841996 ham ham\n",
      "2.080743423547943e-14 0.9999999999999791 ham ham\n",
      "1.7580959504713116e-13 0.9999999999998243 ham ham\n",
      "2.1078237407059402e-11 0.9999999999789216 ham ham\n",
      "2.812394931583346e-07 0.9999997187605069 ham ham\n",
      "1.9045702872634487e-15 0.999999999999998 ham ham\n"
     ]
    },
    {
     "data": {
      "image/png": "[encoded data removed]",
      "text/plain": [
       "<Figure size 640x480 with 1 Axes>"
      ]
     },
     "metadata": {},
     "output_type": "display_data"
    }
   ],
   "source": [
    "import math\n",
    "test_recode = recode_messages(test_data, sms_corpus)\n",
    "\n",
    "predictions = []\n",
    "toprint = 10\n",
    "logprobs_ham = np.array([math.log(prop[0]) for prop in props])\n",
    "logprobs_ham1 = np.array([math.log(1-prop[0]) for prop in props])\n",
    "logprobs_spam = np.array([math.log(prop[1]) for prop in props])\n",
    "logprobs_spam1 = np.array([math.log(1-prop[1]) for prop in props])\n",
    "\n",
    "pred_values = []\n",
    "for x, y, r in zip(x_test, y_test, test_recode):\n",
    "    r = np.array(r)\n",
    "    loglike_w_spam = sum(r * logprobs_spam + (1 - r) * logprobs_spam1)\n",
    "    loglike_w_ham = sum(r * logprobs_ham + (1 - r) * logprobs_ham1)\n",
    "\n",
    "    like_y_spam = math.exp(loglike_w_spam)\n",
    "    like_y_ham = math.exp(loglike_w_ham)\n",
    "\n",
    "    marginal = like_y_spam * prob_spam + like_y_ham * prob_ham\n",
    "    prob_y_spam = like_y_spam * prob_spam / marginal if marginal > 0 else prob_spam\n",
    "    prob_y_ham = like_y_ham * prob_ham / marginal if marginal > 0 else prob_ham\n",
    "    pred = \"spam\" if prob_y_spam > 0.5 else \"ham\"\n",
    "    if toprint > 0:\n",
    "        print(prob_y_spam, prob_y_ham, pred, y)\n",
    "        toprint -= 1\n",
    "    predictions.append(pred)\n",
    "    pred_values.append(prob_y_spam)\n",
    "sns.histplot(x=pred_values, hue=y_test, binrange=(0.01, 0.99), bins = 100)\n",
    "plt.show()"
   ]
  },
  {
   "cell_type": "code",
   "execution_count": 104,
   "metadata": {},
   "outputs": [
    {
     "name": "stdout",
     "output_type": "stream",
     "text": [
      "[1096, 1115] [120, 135] [976, 980]\n",
      "Accuracy:  0.9829596412556054 True Positive Rate: 0.8888888888888888 False Positive Rate: 0.004081632653061273\n"
     ]
    }
   ],
   "source": [
    "accu = [0,0]\n",
    "sens = [0,0]\n",
    "spec = [0,0]\n",
    "for y, pred in zip(y_test, predictions):\n",
    "    accu[0] += y==pred\n",
    "    accu[1] += 1\n",
    "    sens[0] += y==\"spam\" and pred==\"spam\"\n",
    "    sens[1] += y==\"spam\"\n",
    "    spec[0] += y==\"ham\" and pred==\"ham\"\n",
    "    spec[1] += y==\"ham\"\n",
    "print(accu, sens, spec)\n",
    "print(\"Accuracy: \", accu[0] / accu[1], \"True Positive Rate:\", sens[0] / sens[1], \"False Positive Rate:\", 1 - spec[0] / spec[1]) # 4"
   ]
  },
  {
   "cell_type": "code",
   "execution_count": 105,
   "metadata": {},
   "outputs": [
    {
     "data": {
      "image/png": "[encoded data removed]",
      "text/plain": [
       "<Figure size 640x480 with 1 Axes>"
      ]
     },
     "metadata": {},
     "output_type": "display_data"
    }
   ],
   "source": [
    "from sklearn import metrics\n",
    "y_values = [int(y == \"spam\") for y in y_test]\n",
    "fpr, trp, thresholds = metrics.roc_curve(y_values, pred_values)\n",
    "\n",
    "plt.plot(fpr, trp)\n",
    "plt.xlabel(\"FPR\")\n",
    "plt.ylabel(\"TPR\")\n",
    "plt.show()\n",
    "# 4\n"
   ]
  },
  {
   "cell_type": "markdown",
   "metadata": {},
   "source": [
    "5) We used the MAP estimator to take the prior into consideration, as the prior is in this case known - were the prior not known, the MLE estimator would be used in place of the MAP. Pragmatically, it allows us to discard smoothing - with the likelihood estimator, a word that was not seen in the train set but is seen in the test set would have a probability of 0, necessitating laplace smoothing."
   ]
  },
  {
   "attachments": {},
   "cell_type": "markdown",
   "metadata": {},
   "source": [
    "## 5 - Extension of the model \n",
    "\n",
    "One extension of the model is to consider a matrix of word counts instead of simply their presence/absence. \n",
    "The model will change in various ways in this case: \n",
    "   - We will count the total number of occurence in the spam or the ham set for each word.\n",
    "   - the words are now considered to occur independently along the sentence (independent Multinoulli). Thus, for a document with k words $\\mathbf{v}=(v_1,\\ldots, v_k)$\n",
    "    \\begin{align}\n",
    "    \\mathbb{P}(\\mathbf{v} \\mid y = s) \n",
    "  & =  \\prod_{t=1}^{k} p_{v_t}\n",
    "    \\end{align}\n",
    "       where $p_v$ is the probability to observe a word $v$\n",
    "       \n",
    "Note that with this new model we compute a product over the positions in the sentence while the bernoulli model did a product over all the words in the corpus.\n",
    "\n",
    "1. Implement the estimation of parameters for this model and the computation of the posterior class probabilities. This question can be interpreted in different ways, please justify your choices.\n",
    "2. Compare its accuracy and ROC curve with the previous model on a test set (*e.g.* go over section 3 and 4 again for this model).\n",
    "\n"
   ]
  },
  {
   "cell_type": "code",
   "execution_count": 106,
   "metadata": {},
   "outputs": [
    {
     "name": "stdout",
     "output_type": "stream",
     "text": [
      "0.9905460101562673 0.009453989843732706 spam ham\n",
      "2.5277531452328414e-11 0.9999999999747226 ham ham\n",
      "0.9999999916594887 8.340511250082773e-09 spam spam\n",
      "1.0 5.860581506813602e-30 spam spam\n",
      "0.004500865588285262 0.9954991344117147 ham ham\n",
      "1.8691103615143607e-05 0.9999813088963848 ham ham\n",
      "3.6874368777393366e-13 0.9999999999996312 ham ham\n",
      "0.007360229867069568 0.9926397701329304 ham ham\n",
      "0.9336902248567128 0.06630977514328723 spam ham\n",
      "1.6041317902054632e-09 0.9999999983958682 ham ham\n",
      "[1073, 1115] [129, 135] [944, 980]\n",
      "Accuracy:  0.9623318385650225 True Positive Rate: 0.9555555555555556 False Positive Rate: 0.03673469387755102\n"
     ]
    },
    {
     "data": {
      "image/png": "[encoded data removed]",
      "text/plain": [
       "<Figure size 640x480 with 1 Axes>"
      ]
     },
     "metadata": {},
     "output_type": "display_data"
    }
   ],
   "source": [
    "occurrences = np.tile(0.0, (2, len(sms_corpus)))\n",
    "\n",
    "# recode messages to word counts\n",
    "uniques = len(sms_corpus)\n",
    "train_recode = np.tile(0.0, (len(train_data), uniques))\n",
    "for i, msg in enumerate(train_data):\n",
    "        for word in msg[1].split():\n",
    "            train_recode[i][sms_corpus[word]] += 1\n",
    "train_recode = np.array(train_recode)\n",
    "\n",
    "# count words for classes\n",
    "for x, y, r in zip(x_train, y_train, train_recode):\n",
    "    sh = 0 if (y == \"ham\") else 1\n",
    "    occurrences[sh] += r\n",
    "\n",
    "# theta_{vt,c} = P(v_t | Y=c)\n",
    "# estimate thetas as occurrences_word_in_class + 1 / total_words_in_class + 2, i.e. Beta(1,1) prior as above\n",
    "words_ham = sum(occurrences[0])\n",
    "words_spam = sum(occurrences[1])\n",
    "mult_props = np.tile(0.0, (len(sms_corpus), 2))\n",
    "for i, arr in enumerate(mult_props):\n",
    "    arr[0] = (occurrences[0][i] + 1) / (words_ham + 2)\n",
    "    arr[1] = (occurrences[1][i] + 1) / (words_spam + 2)\n",
    "\n",
    "# recode test data\n",
    "test_recode = np.tile(0.0, (len(test_data), uniques))\n",
    "for i, msg in enumerate(test_data):\n",
    "        for word in msg[1].split():\n",
    "            test_recode[i][sms_corpus[word]] += 1\n",
    "test_recode = np.array(test_recode)\n",
    "\n",
    "# run predictions\n",
    "toprint = 10\n",
    "predictions = []\n",
    "pred_values = []\n",
    "logprobs_ham = np.array([math.log(prop[0]) for prop in mult_props])\n",
    "logprobs_spam = np.array([math.log(prop[1]) for prop in mult_props])\n",
    "for x, y, r in zip(x_test, y_test, test_recode):\n",
    "    loglike_w_spam = sum(logprobs_spam * r)\n",
    "    loglike_w_ham = sum(logprobs_ham * r)\n",
    "\n",
    "    like_w_spam = math.exp(loglike_w_spam)\n",
    "    like_w_ham = math.exp(loglike_w_ham)\n",
    "    \n",
    "    marginal = like_w_spam * prob_spam + like_w_ham * prob_ham\n",
    "    prob_y_spam = like_w_spam * prob_spam / marginal if marginal > 0 else prob_spam\n",
    "    prob_y_ham = like_w_ham * prob_ham / marginal if marginal > 0 else prob_ham\n",
    "\n",
    "    pred = \"spam\" if prob_y_spam > 0.5 else \"ham\"\n",
    "    if toprint > 0:\n",
    "        print(prob_y_spam, prob_y_ham, pred, y)\n",
    "        toprint -= 1\n",
    "    predictions.append(pred)\n",
    "    pred_values.append(prob_y_spam)\n",
    "\n",
    "# calculate accuracy, sensitivity, 1-specificity\n",
    "accu = [0,0]\n",
    "sens = [0,0]\n",
    "spec = [0,0]\n",
    "for y, pred in zip(y_test, predictions):\n",
    "    accu[0] += y==pred\n",
    "    accu[1] += 1\n",
    "    sens[0] += y==\"spam\" and pred==\"spam\"\n",
    "    sens[1] += y==\"spam\"\n",
    "    spec[0] += y==\"ham\" and pred==\"ham\"\n",
    "    spec[1] += y==\"ham\"\n",
    "print(accu, sens, spec)\n",
    "print(\"Accuracy: \", accu[0] / accu[1], \"True Positive Rate:\", sens[0] / sens[1], \"False Positive Rate:\", 1 - spec[0] / spec[1]) # 4\n",
    "\n",
    "fpr, trp, thresholds = metrics.roc_curve(y_values, pred_values)\n",
    "\n",
    "plt.plot(fpr, trp)\n",
    "plt.xlabel(\"FPR\")\n",
    "plt.ylabel(\"TPR\")\n",
    "plt.show()"
   ]
  }
 ],
 "metadata": {
  "kernelspec": {
   "display_name": "f2c",
   "language": "python",
   "name": "python3"
  },
  "language_info": {
   "codemirror_mode": {
    "name": "ipython",
    "version": 3
   },
   "file_extension": ".py",
   "mimetype": "text/x-python",
   "name": "python",
   "nbconvert_exporter": "python",
   "pygments_lexer": "ipython3",
   "version": "3.10.14"
  }
 },
 "nbformat": 4,
 "nbformat_minor": 2
}
